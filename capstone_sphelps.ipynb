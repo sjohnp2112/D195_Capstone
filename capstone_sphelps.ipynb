{
 "cells": [
  {
   "cell_type": "markdown",
   "id": "16b41715",
   "metadata": {},
   "source": [
    "<h1 align=\"center\">The Blue-Chip Ratio (BCR) and Winning In College Football</h1>\n",
    "<h2 align=\"center\">WGU D195 Capstone 2023</h2>"
   ]
  },
  {
   "cell_type": "markdown",
   "id": "d1ecafda",
   "metadata": {},
   "source": [
    "<h4 align=\"center\">Scott Phelps, Bachelor of Data Management/Data Analytics Program, Western Governors University</h4>"
   ]
  },
  {
   "cell_type": "markdown",
   "id": "e5049f4e",
   "metadata": {},
   "source": [
    "## Table of Contents\n",
    "1. [Introduction](#intro)\n",
    "- 1.1 [Load Datasets](#data)\n",
    "2. [Data Wrangling](#wrangling)\n",
    "3. [Exploratory Data Analysis](#eda)\n",
    "4. [Linear Regression](#regression)\n",
    "- 4.1 [Sklearn](#sk)\n",
    "- 4.2 [Statsmodels](#sm)\n",
    "5. [Conclusion](#conclusion)\n"
   ]
  },
  {
   "cell_type": "markdown",
   "id": "e6e2f580",
   "metadata": {},
   "source": [
    "<a id='intro'></a>\n",
    "## 1. Introduction"
   ]
  },
  {
   "cell_type": "markdown",
   "id": "5a2538d1",
   "metadata": {},
   "source": [
    "While several factors might account for success in college football, there seems to be a consensus among many coaches, analysts, and recruiting staff that the blue-chip ratio should be a major area of focus when they build their teams. The wider the gap between 4- and 5-star players and the rest of the players appears to impact the end result, a winning season. This project will attempt to provide support for this using regression.\n",
    "\n",
    "This project is using data collected from online sources, such as Kaggle and sports-statistics.com.  It consists of three datasets: a series of csv files storing player statistics and the teams they played for, another dataset of football recruits, and a teams dataset on team performance (wins, losses, ec) each year. The teams dataset is stored as a .db file which is read in using the sqlite3 library. The first step is to load the libraries and modules so we'll do that now."
   ]
  },
  {
   "cell_type": "code",
   "execution_count": 1,
   "id": "9398026c",
   "metadata": {},
   "outputs": [],
   "source": [
    "# importing libraries and modules\n",
    "import pandas as pd\n",
    "import numpy as np\n",
    "import matplotlib.pyplot as plt\n",
    "import sqlite3\n",
    "import importlib\n",
    "import seaborn as sns\n",
    "import os\n",
    "\n",
    "%matplotlib inline\n",
    "\n",
    "import statsmodels.api as sm\n",
    "\n",
    "from importlib import reload\n",
    "from sklearn.model_selection import train_test_split\n",
    "from sklearn.linear_model import LinearRegression\n",
    "\n",
    "pd.set_option('display.max_rows', 1000); \n",
    "pd.set_option('display.max_columns', 1000); \n",
    "pd.set_option('display.width', 1000)"
   ]
  },
  {
   "cell_type": "markdown",
   "id": "3ae567c6",
   "metadata": {},
   "source": [
    "The libraries and modules, or packages, contain robust tools and features we can use to perform every task in our project."
   ]
  },
  {
   "cell_type": "code",
   "execution_count": 2,
   "id": "d342c0e2",
   "metadata": {},
   "outputs": [
    {
     "data": {
      "text/plain": [
       "'C:\\\\Users\\\\sjohn\\\\OneDrive\\\\Documents\\\\D195 Capstone\\\\DataFrames'"
      ]
     },
     "execution_count": 2,
     "metadata": {},
     "output_type": "execute_result"
    }
   ],
   "source": [
    "# checking the current working dir\n",
    "os.getcwd()"
   ]
  },
  {
   "cell_type": "markdown",
   "id": "27778b86",
   "metadata": {},
   "source": [
    "<a id='data'></a>\n",
    "<h3>1.1 Load Datasets</h3>"
   ]
  },
  {
   "cell_type": "code",
   "execution_count": 3,
   "id": "4c7beee3",
   "metadata": {},
   "outputs": [
    {
     "data": {
      "text/plain": [
       "dict_keys(['df_all_defense', 'df_all_kicking', 'df_all_kickoff-return', 'df_all_kickoff', 'df_all_passing', 'df_all_punt-return', 'df_all_punting', 'df_all_receiving', 'df_all_rushing', 'df_all_scoring'])"
      ]
     },
     "execution_count": 3,
     "metadata": {},
     "output_type": "execute_result"
    }
   ],
   "source": [
    "# READING IN THE DATA\n",
    "# ALL-FBS FOOTBALL PLAYER STATS, csv's from sports-statistics.com\n",
    "# these dfs will be concatenated together and later merged with the recruits table\n",
    "\n",
    "# current working dir set to path\n",
    "path = r\"C:\\Users\\sjohn\\OneDrive\\Documents\\D195 Capstone\\DataFrames\"\n",
    "files = [x for x in os.listdir('.') if x.endswith('.csv')]\n",
    "file = [os.path.splitext(os.path.basename(x))[0] for x in files]\n",
    "\n",
    "\n",
    "df_dict = {}\n",
    "for i in range(len(files)):\n",
    "    df_dict[file[i]] = pd.read_csv(files[i])\n",
    "    \n",
    "# these five will be concatenated later\n",
    "df_def = df_dict['df_all_defense']\n",
    "df_pas = df_dict['df_all_passing']\n",
    "df_rec = df_dict['df_all_receiving']\n",
    "df_rus = df_dict['df_all_rushing']\n",
    "df_sco = df_dict['df_all_scoring']\n",
    "\n",
    "# the five dataframes below are additional from sports-statistics.com\n",
    "df_kick = df_dict['df_all_kicking']\n",
    "df_kickoff = df_dict['df_all_kickoff']\n",
    "df_kickoffR = df_dict['df_all_kickoff-return']\n",
    "df_punt = df_dict['df_all_punting']\n",
    "df_puntR = df_dict['df_all_punt-return']\n",
    "\n",
    "df_new = pd.concat([df_kick, df_kickoff, df_kickoffR, df_punt, df_puntR], ignore_index=True)\n",
    "        \n",
    "# # FOOTBALL TEAM STATS - .db file, KAGGLE 2013-2020\n",
    "\n",
    "folder_path1 = \"/Users/sjohn/OneDrive/Documents/D195 Capstone/DataFrames/csv2013-2020\"\n",
    "\n",
    "cnx = sqlite3.connect(f'{folder_path1}/cfb.db')\n",
    "\n",
    "season_data = {}\n",
    "for year in range(2013, 2021):\n",
    "    temp_df = pd.read_sql_query(f\"SELECT * FROM cfb{year}\", cnx)\n",
    "    temp_df['Year'] = year\n",
    "    season_data[f'df{year}'] = temp_df\n",
    "\n",
    "\n",
    "# 'df_team_stats' contains all of the team data above in one dataframe(concat)\n",
    "df_teams_stats = pd.read_csv(r'C:\\Users\\sjohn\\OneDrive\\Documents\\D195 Capstone\\DataFrames\\csv2013-2020\\df_teams2013_2020.csv', index_col=False)\n",
    "df_recruits = pd.read_csv(r'C:\\Users\\sjohn\\OneDrive\\Documents\\D195 Capstone\\Datasets\\CFB recruiting and portal\\CFB_recruits.csv', index_col=False)\n",
    "\n",
    "# these datasets to be used later - df's are the result of most of the steps below and some minor editing in Excel\n",
    "recruits = pd.read_csv(r'C:\\Users\\sjohn\\OneDrive\\Documents\\D195 Capstone\\DataFrames\\csv2013-2020\\df_recruits.csv', index_col=False)\n",
    "teams = pd.read_csv(r'C:\\Users\\sjohn\\OneDrive\\Documents\\D195 Capstone\\DataFrames\\csv2013-2020\\df_teams.csv', index_col=False)\n",
    "df_dict.keys()"
   ]
  },
  {
   "cell_type": "markdown",
   "id": "9ea9541f",
   "metadata": {},
   "source": [
    "First we need to perfrom some data wrangling. We'll look at a few rows then examine the structure of the data to look for data that is missing and to get a glimpse of each row and column count and datatype. Some of the datasets we will use will have missing data which is expected, and for the purposes of this analysis some missing data is acceptable. Later through a series of queries we'll retrieve subsets of data that will become suitable for analysis purposes.\n",
    "\n",
    "Other tasks we need to perform are retrieving the descriptive statistics on each dataset to familiarize ourselves with how the data is spread and distributed, such as looking at minimum and maximum values, and the mean. I'll start with the df_teams_stats dataset.\n"
   ]
  },
  {
   "cell_type": "markdown",
   "id": "83ae912a",
   "metadata": {},
   "source": [
    "<a id='wrangling'></a>\n",
    "## 2. Data Wrangling"
   ]
  },
  {
   "cell_type": "markdown",
   "id": "f8284015",
   "metadata": {},
   "source": [
    "This is the phase when we'll examine the data. Common tasks performed include looking at the structure of the data: rows and column names and counts for each, the datatypes for each column, missing data, descriptive statistics, and then we'll perform other organizational tasks. We'll start with the team stats dataset."
   ]
  },
  {
   "cell_type": "code",
   "execution_count": 4,
   "id": "8bfe5ccf",
   "metadata": {},
   "outputs": [
    {
     "data": {
      "text/html": [
       "<div>\n",
       "<style scoped>\n",
       "    .dataframe tbody tr th:only-of-type {\n",
       "        vertical-align: middle;\n",
       "    }\n",
       "\n",
       "    .dataframe tbody tr th {\n",
       "        vertical-align: top;\n",
       "    }\n",
       "\n",
       "    .dataframe thead th {\n",
       "        text-align: right;\n",
       "    }\n",
       "</style>\n",
       "<table border=\"1\" class=\"dataframe\">\n",
       "  <thead>\n",
       "    <tr style=\"text-align: right;\">\n",
       "      <th></th>\n",
       "      <th>Team</th>\n",
       "      <th>Conference</th>\n",
       "      <th>Year</th>\n",
       "      <th>Games</th>\n",
       "      <th>Win</th>\n",
       "      <th>Loss</th>\n",
       "      <th>Off.Yards.per.Game</th>\n",
       "      <th>Yards.Per.Game.Allowed</th>\n",
       "      <th>Touchdowns</th>\n",
       "      <th>Touchdowns.Allowed</th>\n",
       "    </tr>\n",
       "  </thead>\n",
       "  <tbody>\n",
       "    <tr>\n",
       "      <th>0</th>\n",
       "      <td>Akron</td>\n",
       "      <td>MAC</td>\n",
       "      <td>2013</td>\n",
       "      <td>12</td>\n",
       "      <td>5</td>\n",
       "      <td>7</td>\n",
       "      <td>342.0</td>\n",
       "      <td>397.0</td>\n",
       "      <td>31</td>\n",
       "      <td>44</td>\n",
       "    </tr>\n",
       "    <tr>\n",
       "      <th>1</th>\n",
       "      <td>Alabama</td>\n",
       "      <td>SEC</td>\n",
       "      <td>2013</td>\n",
       "      <td>13</td>\n",
       "      <td>11</td>\n",
       "      <td>2</td>\n",
       "      <td>454.1</td>\n",
       "      <td>286.5</td>\n",
       "      <td>65</td>\n",
       "      <td>23</td>\n",
       "    </tr>\n",
       "    <tr>\n",
       "      <th>2</th>\n",
       "      <td>Arizona</td>\n",
       "      <td>Pac-12</td>\n",
       "      <td>2013</td>\n",
       "      <td>13</td>\n",
       "      <td>8</td>\n",
       "      <td>5</td>\n",
       "      <td>458.5</td>\n",
       "      <td>401.1</td>\n",
       "      <td>57</td>\n",
       "      <td>39</td>\n",
       "    </tr>\n",
       "    <tr>\n",
       "      <th>3</th>\n",
       "      <td>Arizona State</td>\n",
       "      <td>Pac-12</td>\n",
       "      <td>2013</td>\n",
       "      <td>14</td>\n",
       "      <td>10</td>\n",
       "      <td>4</td>\n",
       "      <td>457.3</td>\n",
       "      <td>372.4</td>\n",
       "      <td>69</td>\n",
       "      <td>48</td>\n",
       "    </tr>\n",
       "    <tr>\n",
       "      <th>4</th>\n",
       "      <td>Arkansas</td>\n",
       "      <td>SEC</td>\n",
       "      <td>2013</td>\n",
       "      <td>12</td>\n",
       "      <td>3</td>\n",
       "      <td>9</td>\n",
       "      <td>357.2</td>\n",
       "      <td>413.4</td>\n",
       "      <td>30</td>\n",
       "      <td>49</td>\n",
       "    </tr>\n",
       "  </tbody>\n",
       "</table>\n",
       "</div>"
      ],
      "text/plain": [
       "            Team Conference  Year  Games  Win  Loss  Off.Yards.per.Game  Yards.Per.Game.Allowed  Touchdowns  Touchdowns.Allowed\n",
       "0         Akron         MAC  2013     12    5     7               342.0                   397.0          31                  44\n",
       "1       Alabama         SEC  2013     13   11     2               454.1                   286.5          65                  23\n",
       "2       Arizona      Pac-12  2013     13    8     5               458.5                   401.1          57                  39\n",
       "3  Arizona State     Pac-12  2013     14   10     4               457.3                   372.4          69                  48\n",
       "4      Arkansas         SEC  2013     12    3     9               357.2                   413.4          30                  49"
      ]
     },
     "execution_count": 4,
     "metadata": {},
     "output_type": "execute_result"
    }
   ],
   "source": [
    "# view first few rows\n",
    "df_teams_stats.head()"
   ]
  },
  {
   "cell_type": "code",
   "execution_count": 5,
   "id": "d1863223",
   "metadata": {},
   "outputs": [
    {
     "data": {
      "text/html": [
       "<div>\n",
       "<style scoped>\n",
       "    .dataframe tbody tr th:only-of-type {\n",
       "        vertical-align: middle;\n",
       "    }\n",
       "\n",
       "    .dataframe tbody tr th {\n",
       "        vertical-align: top;\n",
       "    }\n",
       "\n",
       "    .dataframe thead th {\n",
       "        text-align: right;\n",
       "    }\n",
       "</style>\n",
       "<table border=\"1\" class=\"dataframe\">\n",
       "  <thead>\n",
       "    <tr style=\"text-align: right;\">\n",
       "      <th></th>\n",
       "      <th>Team</th>\n",
       "      <th>Conference</th>\n",
       "      <th>Year</th>\n",
       "      <th>Games</th>\n",
       "      <th>Win</th>\n",
       "      <th>Loss</th>\n",
       "      <th>Off.Yards.per.Game</th>\n",
       "      <th>Yards.Per.Game.Allowed</th>\n",
       "      <th>Touchdowns</th>\n",
       "      <th>Touchdowns.Allowed</th>\n",
       "    </tr>\n",
       "  </thead>\n",
       "  <tbody>\n",
       "    <tr>\n",
       "      <th>965</th>\n",
       "      <td>West Virginia</td>\n",
       "      <td>Big 12</td>\n",
       "      <td>2020</td>\n",
       "      <td>9</td>\n",
       "      <td>5</td>\n",
       "      <td>4</td>\n",
       "      <td>422.7</td>\n",
       "      <td>297.2</td>\n",
       "      <td>29</td>\n",
       "      <td>23</td>\n",
       "    </tr>\n",
       "    <tr>\n",
       "      <th>966</th>\n",
       "      <td>Western Kentucky</td>\n",
       "      <td>C-USA</td>\n",
       "      <td>2020</td>\n",
       "      <td>11</td>\n",
       "      <td>5</td>\n",
       "      <td>6</td>\n",
       "      <td>290.9</td>\n",
       "      <td>336.4</td>\n",
       "      <td>24</td>\n",
       "      <td>34</td>\n",
       "    </tr>\n",
       "    <tr>\n",
       "      <th>967</th>\n",
       "      <td>Western Michigan</td>\n",
       "      <td>MAC</td>\n",
       "      <td>2020</td>\n",
       "      <td>6</td>\n",
       "      <td>4</td>\n",
       "      <td>2</td>\n",
       "      <td>479.7</td>\n",
       "      <td>399.7</td>\n",
       "      <td>34</td>\n",
       "      <td>25</td>\n",
       "    </tr>\n",
       "    <tr>\n",
       "      <th>968</th>\n",
       "      <td>Wisconsin</td>\n",
       "      <td>Big Ten</td>\n",
       "      <td>2020</td>\n",
       "      <td>6</td>\n",
       "      <td>3</td>\n",
       "      <td>3</td>\n",
       "      <td>358.8</td>\n",
       "      <td>263.5</td>\n",
       "      <td>17</td>\n",
       "      <td>11</td>\n",
       "    </tr>\n",
       "    <tr>\n",
       "      <th>969</th>\n",
       "      <td>Wyoming</td>\n",
       "      <td>Mountain West</td>\n",
       "      <td>2020</td>\n",
       "      <td>6</td>\n",
       "      <td>2</td>\n",
       "      <td>4</td>\n",
       "      <td>372.8</td>\n",
       "      <td>328.0</td>\n",
       "      <td>17</td>\n",
       "      <td>16</td>\n",
       "    </tr>\n",
       "  </tbody>\n",
       "</table>\n",
       "</div>"
      ],
      "text/plain": [
       "                 Team     Conference  Year  Games  Win  Loss  Off.Yards.per.Game  Yards.Per.Game.Allowed  Touchdowns  Touchdowns.Allowed\n",
       "965    West Virginia          Big 12  2020      9    5     4               422.7                   297.2          29                  23\n",
       "966  Western Kentucky          C-USA  2020     11    5     6               290.9                   336.4          24                  34\n",
       "967  Western Michigan            MAC  2020      6    4     2               479.7                   399.7          34                  25\n",
       "968        Wisconsin         Big Ten  2020      6    3     3               358.8                   263.5          17                  11\n",
       "969          Wyoming   Mountain West  2020      6    2     4               372.8                   328.0          17                  16"
      ]
     },
     "execution_count": 5,
     "metadata": {},
     "output_type": "execute_result"
    }
   ],
   "source": [
    "df_teams_stats.tail()"
   ]
  },
  {
   "cell_type": "code",
   "execution_count": 6,
   "id": "489c2fd1",
   "metadata": {},
   "outputs": [
    {
     "data": {
      "text/plain": [
       "(970, 10)"
      ]
     },
     "execution_count": 6,
     "metadata": {},
     "output_type": "execute_result"
    }
   ],
   "source": [
    "# rows and columns count\n",
    "df_teams_stats.shape"
   ]
  },
  {
   "cell_type": "code",
   "execution_count": 7,
   "id": "93f35437",
   "metadata": {},
   "outputs": [
    {
     "name": "stdout",
     "output_type": "stream",
     "text": [
      "<class 'pandas.core.frame.DataFrame'>\n",
      "RangeIndex: 970 entries, 0 to 969\n",
      "Data columns (total 10 columns):\n",
      " #   Column                  Non-Null Count  Dtype  \n",
      "---  ------                  --------------  -----  \n",
      " 0   Team                    970 non-null    object \n",
      " 1   Conference              967 non-null    object \n",
      " 2   Year                    970 non-null    int64  \n",
      " 3   Games                   970 non-null    int64  \n",
      " 4   Win                     970 non-null    int64  \n",
      " 5   Loss                    970 non-null    int64  \n",
      " 6   Off.Yards.per.Game      970 non-null    float64\n",
      " 7   Yards.Per.Game.Allowed  970 non-null    float64\n",
      " 8   Touchdowns              970 non-null    int64  \n",
      " 9   Touchdowns.Allowed      970 non-null    int64  \n",
      "dtypes: float64(2), int64(6), object(2)\n",
      "memory usage: 75.9+ KB\n"
     ]
    }
   ],
   "source": [
    "# using .info()\n",
    "df_teams_stats.info()"
   ]
  },
  {
   "cell_type": "markdown",
   "id": "34cab341",
   "metadata": {},
   "source": [
    "Fortunately, only one column has missing data. This dataset is the main dataframe we will use to perform the analysis on."
   ]
  },
  {
   "cell_type": "code",
   "execution_count": 8,
   "id": "88b87f58",
   "metadata": {
    "scrolled": true
   },
   "outputs": [
    {
     "data": {
      "text/html": [
       "<div>\n",
       "<style scoped>\n",
       "    .dataframe tbody tr th:only-of-type {\n",
       "        vertical-align: middle;\n",
       "    }\n",
       "\n",
       "    .dataframe tbody tr th {\n",
       "        vertical-align: top;\n",
       "    }\n",
       "\n",
       "    .dataframe thead th {\n",
       "        text-align: right;\n",
       "    }\n",
       "</style>\n",
       "<table border=\"1\" class=\"dataframe\">\n",
       "  <thead>\n",
       "    <tr style=\"text-align: right;\">\n",
       "      <th></th>\n",
       "      <th>Year</th>\n",
       "      <th>Games</th>\n",
       "      <th>Win</th>\n",
       "      <th>Loss</th>\n",
       "      <th>Off.Yards.per.Game</th>\n",
       "      <th>Yards.Per.Game.Allowed</th>\n",
       "      <th>Touchdowns</th>\n",
       "      <th>Touchdowns.Allowed</th>\n",
       "    </tr>\n",
       "  </thead>\n",
       "  <tbody>\n",
       "    <tr>\n",
       "      <th>count</th>\n",
       "      <td>970.000000</td>\n",
       "      <td>970.000000</td>\n",
       "      <td>970.000000</td>\n",
       "      <td>970.00000</td>\n",
       "      <td>970.000000</td>\n",
       "      <td>970.000000</td>\n",
       "      <td>970.000000</td>\n",
       "      <td>970.000000</td>\n",
       "    </tr>\n",
       "    <tr>\n",
       "      <th>mean</th>\n",
       "      <td>2016.629897</td>\n",
       "      <td>12.164948</td>\n",
       "      <td>6.442268</td>\n",
       "      <td>5.72268</td>\n",
       "      <td>406.329381</td>\n",
       "      <td>396.183093</td>\n",
       "      <td>45.245361</td>\n",
       "      <td>41.922680</td>\n",
       "    </tr>\n",
       "    <tr>\n",
       "      <th>std</th>\n",
       "      <td>2.277936</td>\n",
       "      <td>1.826761</td>\n",
       "      <td>3.160199</td>\n",
       "      <td>2.59005</td>\n",
       "      <td>64.358792</td>\n",
       "      <td>58.653055</td>\n",
       "      <td>15.633166</td>\n",
       "      <td>12.211467</td>\n",
       "    </tr>\n",
       "    <tr>\n",
       "      <th>min</th>\n",
       "      <td>2013.000000</td>\n",
       "      <td>3.000000</td>\n",
       "      <td>0.000000</td>\n",
       "      <td>0.00000</td>\n",
       "      <td>187.500000</td>\n",
       "      <td>251.500000</td>\n",
       "      <td>1.000000</td>\n",
       "      <td>6.000000</td>\n",
       "    </tr>\n",
       "    <tr>\n",
       "      <th>25%</th>\n",
       "      <td>2015.000000</td>\n",
       "      <td>12.000000</td>\n",
       "      <td>4.000000</td>\n",
       "      <td>4.00000</td>\n",
       "      <td>366.275000</td>\n",
       "      <td>355.400000</td>\n",
       "      <td>35.000000</td>\n",
       "      <td>34.000000</td>\n",
       "    </tr>\n",
       "    <tr>\n",
       "      <th>50%</th>\n",
       "      <td>2017.000000</td>\n",
       "      <td>13.000000</td>\n",
       "      <td>7.000000</td>\n",
       "      <td>6.00000</td>\n",
       "      <td>403.100000</td>\n",
       "      <td>396.950000</td>\n",
       "      <td>44.500000</td>\n",
       "      <td>42.000000</td>\n",
       "    </tr>\n",
       "    <tr>\n",
       "      <th>75%</th>\n",
       "      <td>2019.000000</td>\n",
       "      <td>13.000000</td>\n",
       "      <td>9.000000</td>\n",
       "      <td>7.00000</td>\n",
       "      <td>444.050000</td>\n",
       "      <td>436.050000</td>\n",
       "      <td>55.000000</td>\n",
       "      <td>49.000000</td>\n",
       "    </tr>\n",
       "    <tr>\n",
       "      <th>max</th>\n",
       "      <td>2020.000000</td>\n",
       "      <td>15.000000</td>\n",
       "      <td>15.000000</td>\n",
       "      <td>12.00000</td>\n",
       "      <td>618.800000</td>\n",
       "      <td>617.400000</td>\n",
       "      <td>95.000000</td>\n",
       "      <td>86.000000</td>\n",
       "    </tr>\n",
       "  </tbody>\n",
       "</table>\n",
       "</div>"
      ],
      "text/plain": [
       "              Year       Games         Win       Loss  Off.Yards.per.Game  Yards.Per.Game.Allowed  Touchdowns  Touchdowns.Allowed\n",
       "count   970.000000  970.000000  970.000000  970.00000          970.000000              970.000000  970.000000          970.000000\n",
       "mean   2016.629897   12.164948    6.442268    5.72268          406.329381              396.183093   45.245361           41.922680\n",
       "std       2.277936    1.826761    3.160199    2.59005           64.358792               58.653055   15.633166           12.211467\n",
       "min    2013.000000    3.000000    0.000000    0.00000          187.500000              251.500000    1.000000            6.000000\n",
       "25%    2015.000000   12.000000    4.000000    4.00000          366.275000              355.400000   35.000000           34.000000\n",
       "50%    2017.000000   13.000000    7.000000    6.00000          403.100000              396.950000   44.500000           42.000000\n",
       "75%    2019.000000   13.000000    9.000000    7.00000          444.050000              436.050000   55.000000           49.000000\n",
       "max    2020.000000   15.000000   15.000000   12.00000          618.800000              617.400000   95.000000           86.000000"
      ]
     },
     "execution_count": 8,
     "metadata": {},
     "output_type": "execute_result"
    }
   ],
   "source": [
    "# using describe command\n",
    "df_teams_stats.describe()\n"
   ]
  },
  {
   "cell_type": "markdown",
   "id": "ed600861",
   "metadata": {},
   "source": [
    "Lets get a quick visual of this to see a better picture of what we are working with. We'll look at wins and losses."
   ]
  },
  {
   "cell_type": "code",
   "execution_count": 9,
   "id": "a8a9e8fe",
   "metadata": {
    "scrolled": false
   },
   "outputs": [
    {
     "data": {
      "text/plain": [
       "<AxesSubplot: >"
      ]
     },
     "execution_count": 9,
     "metadata": {},
     "output_type": "execute_result"
    },
    {
     "data": {
      "image/png": "[encoded data removed]",
      "text/plain": [
       "<Figure size 640x480 with 1 Axes>"
      ]
     },
     "metadata": {},
     "output_type": "display_data"
    }
   ],
   "source": [
    "# histogram of wins\n",
    "df_teams_stats.Win.hist()"
   ]
  },
  {
   "cell_type": "code",
   "execution_count": 10,
   "id": "39a0f0d7",
   "metadata": {},
   "outputs": [
    {
     "data": {
      "text/plain": [
       "<AxesSubplot: >"
      ]
     },
     "execution_count": 10,
     "metadata": {},
     "output_type": "execute_result"
    },
    {
     "data": {
      "image/png": "[encoded data removed]",
      "text/plain": [
       "<Figure size 640x480 with 1 Axes>"
      ]
     },
     "metadata": {},
     "output_type": "display_data"
    }
   ],
   "source": [
    "# histogram of losses\n",
    "df_teams_stats.Loss.hist()"
   ]
  },
  {
   "cell_type": "code",
   "execution_count": 11,
   "id": "d4e823b6",
   "metadata": {},
   "outputs": [
    {
     "data": {
      "image/png": "[encoded data removed]",
      "text/plain": [
       "<Figure size 640x480 with 1 Axes>"
      ]
     },
     "metadata": {},
     "output_type": "display_data"
    }
   ],
   "source": [
    "# histogram\n",
    "hw = df_teams_stats.Win\n",
    "hl = df_teams_stats.Loss\n",
    "\n",
    "plt.title(\"Distribution of Wins\\Loss\")\n",
    "plt.hist(hw, bins=7, edgecolor='Black', color= 'k', alpha=0.4)\n",
    "plt.hist(hl, bins=7, edgecolor='None', color= 'r', alpha=0.4)\n",
    "plt.legend([\"Win\", \"Loss\"], loc=\"upper right\")\n",
    "plt.show()"
   ]
  },
  {
   "cell_type": "markdown",
   "id": "4ea9b2d4",
   "metadata": {},
   "source": [
    "Here you can see a a slight skew to the right. Next we'll look at the recruits table."
   ]
  },
  {
   "cell_type": "code",
   "execution_count": 12,
   "id": "6b761602",
   "metadata": {},
   "outputs": [
    {
     "data": {
      "text/html": [
       "<div>\n",
       "<style scoped>\n",
       "    .dataframe tbody tr th:only-of-type {\n",
       "        vertical-align: middle;\n",
       "    }\n",
       "\n",
       "    .dataframe tbody tr th {\n",
       "        vertical-align: top;\n",
       "    }\n",
       "\n",
       "    .dataframe thead th {\n",
       "        text-align: right;\n",
       "    }\n",
       "</style>\n",
       "<table border=\"1\" class=\"dataframe\">\n",
       "  <thead>\n",
       "    <tr style=\"text-align: right;\">\n",
       "      <th></th>\n",
       "      <th>Unnamed: 0</th>\n",
       "      <th>year</th>\n",
       "      <th>name</th>\n",
       "      <th>position</th>\n",
       "      <th>school</th>\n",
       "      <th>ranking</th>\n",
       "      <th>rating</th>\n",
       "      <th>stars</th>\n",
       "      <th>committed_to</th>\n",
       "      <th>recruit_type</th>\n",
       "      <th>height</th>\n",
       "      <th>weight</th>\n",
       "      <th>city</th>\n",
       "      <th>state_province</th>\n",
       "      <th>country</th>\n",
       "      <th>id</th>\n",
       "      <th>athlete_id</th>\n",
       "    </tr>\n",
       "  </thead>\n",
       "  <tbody>\n",
       "    <tr>\n",
       "      <th>0</th>\n",
       "      <td>0</td>\n",
       "      <td>2012</td>\n",
       "      <td>Dorial Green-Beckham</td>\n",
       "      <td>WR</td>\n",
       "      <td>Hillcrest</td>\n",
       "      <td>1.0</td>\n",
       "      <td>0.9997</td>\n",
       "      <td>5</td>\n",
       "      <td>Missouri</td>\n",
       "      <td>HighSchool</td>\n",
       "      <td>78.0</td>\n",
       "      <td>220.0</td>\n",
       "      <td>Springfield</td>\n",
       "      <td>MO</td>\n",
       "      <td>USA</td>\n",
       "      <td>22037</td>\n",
       "      <td>531380.0</td>\n",
       "    </tr>\n",
       "    <tr>\n",
       "      <th>1</th>\n",
       "      <td>1</td>\n",
       "      <td>2012</td>\n",
       "      <td>Mario Edwards</td>\n",
       "      <td>DT</td>\n",
       "      <td>Ryan</td>\n",
       "      <td>2.0</td>\n",
       "      <td>0.9995</td>\n",
       "      <td>5</td>\n",
       "      <td>Florida State</td>\n",
       "      <td>HighSchool</td>\n",
       "      <td>75.0</td>\n",
       "      <td>285.0</td>\n",
       "      <td>Denton</td>\n",
       "      <td>TX</td>\n",
       "      <td>USA</td>\n",
       "      <td>22038</td>\n",
       "      <td>530290.0</td>\n",
       "    </tr>\n",
       "    <tr>\n",
       "      <th>2</th>\n",
       "      <td>2</td>\n",
       "      <td>2012</td>\n",
       "      <td>D.J. Humphries</td>\n",
       "      <td>OT</td>\n",
       "      <td>Mallard Creek</td>\n",
       "      <td>3.0</td>\n",
       "      <td>0.9979</td>\n",
       "      <td>5</td>\n",
       "      <td>Florida</td>\n",
       "      <td>HighSchool</td>\n",
       "      <td>77.0</td>\n",
       "      <td>275.0</td>\n",
       "      <td>Charlotte</td>\n",
       "      <td>NC</td>\n",
       "      <td>USA</td>\n",
       "      <td>22039</td>\n",
       "      <td>-1009881.0</td>\n",
       "    </tr>\n",
       "    <tr>\n",
       "      <th>3</th>\n",
       "      <td>3</td>\n",
       "      <td>2012</td>\n",
       "      <td>Shaq Thompson</td>\n",
       "      <td>S</td>\n",
       "      <td>Grant Union</td>\n",
       "      <td>4.0</td>\n",
       "      <td>0.9975</td>\n",
       "      <td>5</td>\n",
       "      <td>Washington</td>\n",
       "      <td>HighSchool</td>\n",
       "      <td>74.0</td>\n",
       "      <td>210.0</td>\n",
       "      <td>Sacramento</td>\n",
       "      <td>CA</td>\n",
       "      <td>USA</td>\n",
       "      <td>22040</td>\n",
       "      <td>535329.0</td>\n",
       "    </tr>\n",
       "    <tr>\n",
       "      <th>4</th>\n",
       "      <td>4</td>\n",
       "      <td>2012</td>\n",
       "      <td>Noah Spence</td>\n",
       "      <td>WDE</td>\n",
       "      <td>Bishop McDevitt</td>\n",
       "      <td>5.0</td>\n",
       "      <td>0.9974</td>\n",
       "      <td>5</td>\n",
       "      <td>Ohio State</td>\n",
       "      <td>HighSchool</td>\n",
       "      <td>75.0</td>\n",
       "      <td>235.0</td>\n",
       "      <td>Harrisburg</td>\n",
       "      <td>PA</td>\n",
       "      <td>USA</td>\n",
       "      <td>22041</td>\n",
       "      <td>-1027150.0</td>\n",
       "    </tr>\n",
       "  </tbody>\n",
       "</table>\n",
       "</div>"
      ],
      "text/plain": [
       "   Unnamed: 0  year                  name position           school  ranking  rating  stars   committed_to recruit_type  height  weight         city state_province country     id  athlete_id\n",
       "0           0  2012  Dorial Green-Beckham       WR        Hillcrest      1.0  0.9997      5       Missouri   HighSchool    78.0   220.0  Springfield             MO     USA  22037    531380.0\n",
       "1           1  2012         Mario Edwards       DT             Ryan      2.0  0.9995      5  Florida State   HighSchool    75.0   285.0       Denton             TX     USA  22038    530290.0\n",
       "2           2  2012        D.J. Humphries       OT    Mallard Creek      3.0  0.9979      5        Florida   HighSchool    77.0   275.0    Charlotte             NC     USA  22039  -1009881.0\n",
       "3           3  2012         Shaq Thompson        S      Grant Union      4.0  0.9975      5     Washington   HighSchool    74.0   210.0   Sacramento             CA     USA  22040    535329.0\n",
       "4           4  2012           Noah Spence      WDE  Bishop McDevitt      5.0  0.9974      5     Ohio State   HighSchool    75.0   235.0   Harrisburg             PA     USA  22041  -1027150.0"
      ]
     },
     "execution_count": 12,
     "metadata": {},
     "output_type": "execute_result"
    }
   ],
   "source": [
    "df_recruits.head()"
   ]
  },
  {
   "cell_type": "code",
   "execution_count": 13,
   "id": "1cdbabfd",
   "metadata": {},
   "outputs": [
    {
     "data": {
      "text/html": [
       "<div>\n",
       "<style scoped>\n",
       "    .dataframe tbody tr th:only-of-type {\n",
       "        vertical-align: middle;\n",
       "    }\n",
       "\n",
       "    .dataframe tbody tr th {\n",
       "        vertical-align: top;\n",
       "    }\n",
       "\n",
       "    .dataframe thead th {\n",
       "        text-align: right;\n",
       "    }\n",
       "</style>\n",
       "<table border=\"1\" class=\"dataframe\">\n",
       "  <thead>\n",
       "    <tr style=\"text-align: right;\">\n",
       "      <th></th>\n",
       "      <th>Unnamed: 0</th>\n",
       "      <th>year</th>\n",
       "      <th>name</th>\n",
       "      <th>position</th>\n",
       "      <th>school</th>\n",
       "      <th>ranking</th>\n",
       "      <th>rating</th>\n",
       "      <th>stars</th>\n",
       "      <th>committed_to</th>\n",
       "      <th>recruit_type</th>\n",
       "      <th>height</th>\n",
       "      <th>weight</th>\n",
       "      <th>city</th>\n",
       "      <th>state_province</th>\n",
       "      <th>country</th>\n",
       "      <th>id</th>\n",
       "      <th>athlete_id</th>\n",
       "    </tr>\n",
       "  </thead>\n",
       "  <tbody>\n",
       "    <tr>\n",
       "      <th>46398</th>\n",
       "      <td>46398</td>\n",
       "      <td>2023</td>\n",
       "      <td>Jacob Harris</td>\n",
       "      <td>WR</td>\n",
       "      <td>Westerville Central</td>\n",
       "      <td>2299.0</td>\n",
       "      <td>0.7844</td>\n",
       "      <td>2</td>\n",
       "      <td>Bowling Green</td>\n",
       "      <td>HighSchool</td>\n",
       "      <td>76.0</td>\n",
       "      <td>192.0</td>\n",
       "      <td>Westerville</td>\n",
       "      <td>OH</td>\n",
       "      <td>USA</td>\n",
       "      <td>94996</td>\n",
       "      <td>NaN</td>\n",
       "    </tr>\n",
       "    <tr>\n",
       "      <th>46399</th>\n",
       "      <td>46399</td>\n",
       "      <td>2023</td>\n",
       "      <td>Trey Dubuc</td>\n",
       "      <td>LS</td>\n",
       "      <td>Cardinal Gibbons</td>\n",
       "      <td>2300.0</td>\n",
       "      <td>0.7844</td>\n",
       "      <td>2</td>\n",
       "      <td>South Florida</td>\n",
       "      <td>HighSchool</td>\n",
       "      <td>74.0</td>\n",
       "      <td>220.0</td>\n",
       "      <td>Fort Lauderdale</td>\n",
       "      <td>FL</td>\n",
       "      <td>USA</td>\n",
       "      <td>94488</td>\n",
       "      <td>NaN</td>\n",
       "    </tr>\n",
       "    <tr>\n",
       "      <th>46400</th>\n",
       "      <td>46400</td>\n",
       "      <td>2023</td>\n",
       "      <td>Ezekiel Rodrigues</td>\n",
       "      <td>S</td>\n",
       "      <td>Mililani</td>\n",
       "      <td>2301.0</td>\n",
       "      <td>0.7833</td>\n",
       "      <td>2</td>\n",
       "      <td>Hawai'i</td>\n",
       "      <td>HighSchool</td>\n",
       "      <td>73.0</td>\n",
       "      <td>190.0</td>\n",
       "      <td>Mililani</td>\n",
       "      <td>HI</td>\n",
       "      <td>USA</td>\n",
       "      <td>95117</td>\n",
       "      <td>NaN</td>\n",
       "    </tr>\n",
       "    <tr>\n",
       "      <th>46401</th>\n",
       "      <td>46401</td>\n",
       "      <td>2023</td>\n",
       "      <td>DeAndre Beasley Jr.</td>\n",
       "      <td>CB</td>\n",
       "      <td>Bishop Miege</td>\n",
       "      <td>2302.0</td>\n",
       "      <td>0.7800</td>\n",
       "      <td>2</td>\n",
       "      <td>NaN</td>\n",
       "      <td>HighSchool</td>\n",
       "      <td>71.0</td>\n",
       "      <td>180.0</td>\n",
       "      <td>Lees Summit</td>\n",
       "      <td>MO</td>\n",
       "      <td>USA</td>\n",
       "      <td>94810</td>\n",
       "      <td>NaN</td>\n",
       "    </tr>\n",
       "    <tr>\n",
       "      <th>46402</th>\n",
       "      <td>46402</td>\n",
       "      <td>2023</td>\n",
       "      <td>Brady Probst</td>\n",
       "      <td>TE</td>\n",
       "      <td>Brownsburg</td>\n",
       "      <td>2303.0</td>\n",
       "      <td>0.7733</td>\n",
       "      <td>2</td>\n",
       "      <td>Illinois State</td>\n",
       "      <td>HighSchool</td>\n",
       "      <td>76.0</td>\n",
       "      <td>235.0</td>\n",
       "      <td>Brownsburg</td>\n",
       "      <td>IN</td>\n",
       "      <td>USA</td>\n",
       "      <td>94123</td>\n",
       "      <td>NaN</td>\n",
       "    </tr>\n",
       "  </tbody>\n",
       "</table>\n",
       "</div>"
      ],
      "text/plain": [
       "       Unnamed: 0  year                 name position               school  ranking  rating  stars    committed_to recruit_type  height  weight             city state_province country     id  athlete_id\n",
       "46398       46398  2023         Jacob Harris       WR  Westerville Central   2299.0  0.7844      2   Bowling Green   HighSchool    76.0   192.0      Westerville             OH     USA  94996         NaN\n",
       "46399       46399  2023           Trey Dubuc       LS     Cardinal Gibbons   2300.0  0.7844      2   South Florida   HighSchool    74.0   220.0  Fort Lauderdale             FL     USA  94488         NaN\n",
       "46400       46400  2023    Ezekiel Rodrigues        S             Mililani   2301.0  0.7833      2         Hawai'i   HighSchool    73.0   190.0         Mililani             HI     USA  95117         NaN\n",
       "46401       46401  2023  DeAndre Beasley Jr.       CB         Bishop Miege   2302.0  0.7800      2             NaN   HighSchool    71.0   180.0      Lees Summit             MO     USA  94810         NaN\n",
       "46402       46402  2023         Brady Probst       TE           Brownsburg   2303.0  0.7733      2  Illinois State   HighSchool    76.0   235.0       Brownsburg             IN     USA  94123         NaN"
      ]
     },
     "execution_count": 13,
     "metadata": {},
     "output_type": "execute_result"
    }
   ],
   "source": [
    "df_recruits.tail()"
   ]
  },
  {
   "cell_type": "code",
   "execution_count": 14,
   "id": "59b5cd7e",
   "metadata": {},
   "outputs": [
    {
     "data": {
      "text/plain": [
       "(46403, 17)"
      ]
     },
     "execution_count": 14,
     "metadata": {},
     "output_type": "execute_result"
    }
   ],
   "source": [
    "# rows and columns\n",
    "df_recruits.shape"
   ]
  },
  {
   "cell_type": "code",
   "execution_count": 15,
   "id": "806d5294",
   "metadata": {
    "scrolled": true
   },
   "outputs": [
    {
     "name": "stdout",
     "output_type": "stream",
     "text": [
      "<class 'pandas.core.frame.DataFrame'>\n",
      "RangeIndex: 46403 entries, 0 to 46402\n",
      "Data columns (total 17 columns):\n",
      " #   Column          Non-Null Count  Dtype  \n",
      "---  ------          --------------  -----  \n",
      " 0   Unnamed: 0      46403 non-null  int64  \n",
      " 1   year            46403 non-null  int64  \n",
      " 2   name            46403 non-null  object \n",
      " 3   position        46384 non-null  object \n",
      " 4   school          46123 non-null  object \n",
      " 5   ranking         46043 non-null  float64\n",
      " 6   rating          46403 non-null  float64\n",
      " 7   stars           46403 non-null  int64  \n",
      " 8   committed_to    37882 non-null  object \n",
      " 9   recruit_type    46403 non-null  object \n",
      " 10  height          46305 non-null  float64\n",
      " 11  weight          46301 non-null  float64\n",
      " 12  city            46086 non-null  object \n",
      " 13  state_province  46075 non-null  object \n",
      " 14  country         46183 non-null  object \n",
      " 15  id              46403 non-null  int64  \n",
      " 16  athlete_id      28536 non-null  float64\n",
      "dtypes: float64(5), int64(4), object(8)\n",
      "memory usage: 6.0+ MB\n"
     ]
    }
   ],
   "source": [
    "# looking for missing data, datatypes, column names\n",
    "df_recruits.info()"
   ]
  },
  {
   "cell_type": "markdown",
   "id": "f401e6dd",
   "metadata": {},
   "source": [
    "We have a column called 'committed_to'.  This is important as it will be used later to match player names. In college football, recruiters visit high school athletes who want to play at the next level."
   ]
  },
  {
   "cell_type": "code",
   "execution_count": 16,
   "id": "a82a0a90",
   "metadata": {
    "scrolled": true
   },
   "outputs": [
    {
     "data": {
      "text/html": [
       "<div>\n",
       "<style scoped>\n",
       "    .dataframe tbody tr th:only-of-type {\n",
       "        vertical-align: middle;\n",
       "    }\n",
       "\n",
       "    .dataframe tbody tr th {\n",
       "        vertical-align: top;\n",
       "    }\n",
       "\n",
       "    .dataframe thead th {\n",
       "        text-align: right;\n",
       "    }\n",
       "</style>\n",
       "<table border=\"1\" class=\"dataframe\">\n",
       "  <thead>\n",
       "    <tr style=\"text-align: right;\">\n",
       "      <th></th>\n",
       "      <th>Unnamed: 0</th>\n",
       "      <th>year</th>\n",
       "      <th>ranking</th>\n",
       "      <th>rating</th>\n",
       "      <th>stars</th>\n",
       "      <th>height</th>\n",
       "      <th>weight</th>\n",
       "      <th>id</th>\n",
       "      <th>athlete_id</th>\n",
       "    </tr>\n",
       "  </thead>\n",
       "  <tbody>\n",
       "    <tr>\n",
       "      <th>count</th>\n",
       "      <td>46403.000000</td>\n",
       "      <td>46403.000000</td>\n",
       "      <td>46043.000000</td>\n",
       "      <td>46403.000000</td>\n",
       "      <td>46403.000000</td>\n",
       "      <td>46305.000000</td>\n",
       "      <td>46301.000000</td>\n",
       "      <td>46403.000000</td>\n",
       "      <td>2.853600e+04</td>\n",
       "    </tr>\n",
       "    <tr>\n",
       "      <th>mean</th>\n",
       "      <td>23201.000000</td>\n",
       "      <td>2017.115941</td>\n",
       "      <td>1638.368438</td>\n",
       "      <td>0.821902</td>\n",
       "      <td>2.740211</td>\n",
       "      <td>73.807381</td>\n",
       "      <td>218.977387</td>\n",
       "      <td>49772.324957</td>\n",
       "      <td>2.935891e+06</td>\n",
       "    </tr>\n",
       "    <tr>\n",
       "      <th>std</th>\n",
       "      <td>13395.536607</td>\n",
       "      <td>3.156699</td>\n",
       "      <td>1134.999116</td>\n",
       "      <td>0.056273</td>\n",
       "      <td>0.683145</td>\n",
       "      <td>2.563885</td>\n",
       "      <td>45.283085</td>\n",
       "      <td>20172.348965</td>\n",
       "      <td>2.185014e+06</td>\n",
       "    </tr>\n",
       "    <tr>\n",
       "      <th>min</th>\n",
       "      <td>0.000000</td>\n",
       "      <td>2012.000000</td>\n",
       "      <td>1.000000</td>\n",
       "      <td>0.606300</td>\n",
       "      <td>1.000000</td>\n",
       "      <td>61.000000</td>\n",
       "      <td>20.000000</td>\n",
       "      <td>22037.000000</td>\n",
       "      <td>-1.044268e+06</td>\n",
       "    </tr>\n",
       "    <tr>\n",
       "      <th>25%</th>\n",
       "      <td>11600.500000</td>\n",
       "      <td>2014.000000</td>\n",
       "      <td>599.000000</td>\n",
       "      <td>0.779800</td>\n",
       "      <td>2.000000</td>\n",
       "      <td>72.000000</td>\n",
       "      <td>185.000000</td>\n",
       "      <td>33637.500000</td>\n",
       "      <td>5.480448e+05</td>\n",
       "    </tr>\n",
       "    <tr>\n",
       "      <th>50%</th>\n",
       "      <td>23201.000000</td>\n",
       "      <td>2017.000000</td>\n",
       "      <td>1541.000000</td>\n",
       "      <td>0.819800</td>\n",
       "      <td>3.000000</td>\n",
       "      <td>74.000000</td>\n",
       "      <td>206.000000</td>\n",
       "      <td>45238.000000</td>\n",
       "      <td>4.051451e+06</td>\n",
       "    </tr>\n",
       "    <tr>\n",
       "      <th>75%</th>\n",
       "      <td>34801.500000</td>\n",
       "      <td>2020.000000</td>\n",
       "      <td>2536.000000</td>\n",
       "      <td>0.855200</td>\n",
       "      <td>3.000000</td>\n",
       "      <td>76.000000</td>\n",
       "      <td>250.000000</td>\n",
       "      <td>63809.500000</td>\n",
       "      <td>4.430390e+06</td>\n",
       "    </tr>\n",
       "    <tr>\n",
       "      <th>max</th>\n",
       "      <td>46402.000000</td>\n",
       "      <td>2023.000000</td>\n",
       "      <td>4259.000000</td>\n",
       "      <td>1.000000</td>\n",
       "      <td>5.000000</td>\n",
       "      <td>84.000000</td>\n",
       "      <td>2000.000000</td>\n",
       "      <td>95120.000000</td>\n",
       "      <td>5.100583e+06</td>\n",
       "    </tr>\n",
       "  </tbody>\n",
       "</table>\n",
       "</div>"
      ],
      "text/plain": [
       "         Unnamed: 0          year       ranking        rating         stars        height        weight            id    athlete_id\n",
       "count  46403.000000  46403.000000  46043.000000  46403.000000  46403.000000  46305.000000  46301.000000  46403.000000  2.853600e+04\n",
       "mean   23201.000000   2017.115941   1638.368438      0.821902      2.740211     73.807381    218.977387  49772.324957  2.935891e+06\n",
       "std    13395.536607      3.156699   1134.999116      0.056273      0.683145      2.563885     45.283085  20172.348965  2.185014e+06\n",
       "min        0.000000   2012.000000      1.000000      0.606300      1.000000     61.000000     20.000000  22037.000000 -1.044268e+06\n",
       "25%    11600.500000   2014.000000    599.000000      0.779800      2.000000     72.000000    185.000000  33637.500000  5.480448e+05\n",
       "50%    23201.000000   2017.000000   1541.000000      0.819800      3.000000     74.000000    206.000000  45238.000000  4.051451e+06\n",
       "75%    34801.500000   2020.000000   2536.000000      0.855200      3.000000     76.000000    250.000000  63809.500000  4.430390e+06\n",
       "max    46402.000000   2023.000000   4259.000000      1.000000      5.000000     84.000000   2000.000000  95120.000000  5.100583e+06"
      ]
     },
     "execution_count": 16,
     "metadata": {},
     "output_type": "execute_result"
    }
   ],
   "source": [
    "# looking at key statistics values \n",
    "df_recruits.describe()"
   ]
  },
  {
   "cell_type": "markdown",
   "id": "739850d4",
   "metadata": {},
   "source": [
    "To refresh, the 'stars' indicate a future player's talent and abilities for each year. We will group the 4 and 5 star players and the 2 and 3 star players in their own group to be used in the analysis. Lets see the what the histograms look like. The important column here is the stars column. With a mean of 2.74, this confirms what the bulk of the distribution looks like, mostly 2- and 3-star players. The standard deviation shows that the values are clustered around the mean."
   ]
  },
  {
   "cell_type": "code",
   "execution_count": 17,
   "id": "41da5d44",
   "metadata": {},
   "outputs": [
    {
     "data": {
      "text/plain": [
       "<AxesSubplot: >"
      ]
     },
     "execution_count": 17,
     "metadata": {},
     "output_type": "execute_result"
    },
    {
     "data": {
      "image/png": "[encoded data removed]",
      "text/plain": [
       "<Figure size 640x480 with 1 Axes>"
      ]
     },
     "metadata": {},
     "output_type": "display_data"
    }
   ],
   "source": [
    "# histogram\n",
    "df_recruits.stars.hist()"
   ]
  },
  {
   "cell_type": "markdown",
   "id": "c99e8ea4",
   "metadata": {},
   "source": [
    "It's easy to see that 2 and 3 star players make up the bulk of this dataset. Let's get the same visual above using matplotlib, then we'll examine the counts of each star."
   ]
  },
  {
   "cell_type": "code",
   "execution_count": 18,
   "id": "3ee22349",
   "metadata": {},
   "outputs": [
    {
     "data": {
      "text/plain": [
       "(array([  763., 15714., 25159.,  4349.,     0.,   418.]),\n",
       " array([1. , 1.8, 2.6, 3.4, 4.2, 5. , 5.8]),\n",
       " <BarContainer object of 6 artists>)"
      ]
     },
     "execution_count": 18,
     "metadata": {},
     "output_type": "execute_result"
    },
    {
     "data": {
      "image/png": "[encoded data removed]",
      "text/plain": [
       "<Figure size 640x480 with 1 Axes>"
      ]
     },
     "metadata": {},
     "output_type": "display_data"
    }
   ],
   "source": [
    "# histogram to show the distribution across the stars categories with matplotlib\n",
    "data = df_recruits['stars']\n",
    "plt.hist(data, bins=np.arange(min(data), max(data) + 1, .8))"
   ]
  },
  {
   "cell_type": "markdown",
   "id": "d2166efb",
   "metadata": {},
   "source": [
    "The data is skewed to the right, which is indicative of the bulk of players being 2- and 3-stars. Not many are 5-stars. Let's get counts of each in the distribution."
   ]
  },
  {
   "cell_type": "code",
   "execution_count": 19,
   "id": "61e795db",
   "metadata": {},
   "outputs": [
    {
     "data": {
      "text/plain": [
       "Unnamed: 0        763\n",
       "year              763\n",
       "name              763\n",
       "position          763\n",
       "school            762\n",
       "ranking           761\n",
       "rating            763\n",
       "stars             763\n",
       "committed_to      376\n",
       "recruit_type      763\n",
       "height            760\n",
       "weight            760\n",
       "city              762\n",
       "state_province    761\n",
       "country           761\n",
       "id                763\n",
       "athlete_id        208\n",
       "dtype: int64"
      ]
     },
     "execution_count": 19,
     "metadata": {},
     "output_type": "execute_result"
    }
   ],
   "source": [
    "# counting the categories\n",
    "df_recruits[df_recruits['stars'] == 5].count()\n",
    "# 418\n",
    "\n",
    "df_recruits[df_recruits['stars'] == 4].count()\n",
    "# 4349\n",
    "\n",
    "df_recruits[df_recruits['stars'] == 3].count()\n",
    "# 25159\n",
    "\n",
    "df_recruits[df_recruits['stars'] == 2].count()\n",
    "# 15714\n",
    "\n",
    "df_recruits[df_recruits['stars'] == 1].count()\n",
    "# 763"
   ]
  },
  {
   "cell_type": "markdown",
   "id": "15ad7d03",
   "metadata": {},
   "source": [
    "Now we can see the counts in each category. Let's examine the player statistics dataframes and the team they played on. We'll look at the defense, passing, receiving, rushing, and scoring position categories, as well as df_new. 'df_new' contains kicking, kickoff, kickoff-returns, punting, and punt-return statistics."
   ]
  },
  {
   "cell_type": "markdown",
   "id": "69d0e3a1",
   "metadata": {},
   "source": [
    "### DEFENSE"
   ]
  },
  {
   "cell_type": "code",
   "execution_count": 20,
   "id": "fb93f241",
   "metadata": {},
   "outputs": [
    {
     "name": "stdout",
     "output_type": "stream",
     "text": [
      "<class 'pandas.core.frame.DataFrame'>\n",
      "RangeIndex: 1000 entries, 0 to 999\n",
      "Data columns (total 10 columns):\n",
      " #   Column     Non-Null Count  Dtype  \n",
      "---  ------     --------------  -----  \n",
      " 0   Player     1000 non-null   object \n",
      " 1   Team       1000 non-null   object \n",
      " 2   Year       1000 non-null   int64  \n",
      " 3   Int        1000 non-null   int64  \n",
      " 4   TD         1000 non-null   int64  \n",
      " 5   Solo       1000 non-null   int64  \n",
      " 6   Ast        1000 non-null   int64  \n",
      " 7   Tot        1000 non-null   int64  \n",
      " 8   Sack       1000 non-null   float64\n",
      " 9   Stat Type  1000 non-null   object \n",
      "dtypes: float64(1), int64(6), object(3)\n",
      "memory usage: 78.2+ KB\n"
     ]
    }
   ],
   "source": [
    "# defensive players\n",
    "df_def.info()"
   ]
  },
  {
   "cell_type": "markdown",
   "id": "87e1562f",
   "metadata": {},
   "source": [
    "### PASSING"
   ]
  },
  {
   "cell_type": "code",
   "execution_count": 21,
   "id": "3c9d66ad",
   "metadata": {},
   "outputs": [
    {
     "name": "stdout",
     "output_type": "stream",
     "text": [
      "<class 'pandas.core.frame.DataFrame'>\n",
      "RangeIndex: 1000 entries, 0 to 999\n",
      "Data columns (total 13 columns):\n",
      " #   Column     Non-Null Count  Dtype  \n",
      "---  ------     --------------  -----  \n",
      " 0   Player     1000 non-null   object \n",
      " 1   Team       1000 non-null   object \n",
      " 2   Year       1000 non-null   int64  \n",
      " 3   Att        1000 non-null   int64  \n",
      " 4   Cmp        1000 non-null   int64  \n",
      " 5   Pct        1000 non-null   float64\n",
      " 6   Yds        1000 non-null   object \n",
      " 7   TD         1000 non-null   int64  \n",
      " 8   TD%        1000 non-null   float64\n",
      " 9   Int        1000 non-null   int64  \n",
      " 10  Sack       1000 non-null   object \n",
      " 11  Rate       1000 non-null   float64\n",
      " 12  Stat Type  1000 non-null   object \n",
      "dtypes: float64(3), int64(5), object(5)\n",
      "memory usage: 101.7+ KB\n"
     ]
    }
   ],
   "source": [
    "df_pas.info()"
   ]
  },
  {
   "cell_type": "markdown",
   "id": "b679974e",
   "metadata": {},
   "source": [
    "### RECEIVING"
   ]
  },
  {
   "cell_type": "code",
   "execution_count": 22,
   "id": "2919f357",
   "metadata": {},
   "outputs": [
    {
     "name": "stdout",
     "output_type": "stream",
     "text": [
      "<class 'pandas.core.frame.DataFrame'>\n",
      "RangeIndex: 1000 entries, 0 to 999\n",
      "Data columns (total 8 columns):\n",
      " #   Column     Non-Null Count  Dtype  \n",
      "---  ------     --------------  -----  \n",
      " 0   Player     1000 non-null   object \n",
      " 1   Team       1000 non-null   object \n",
      " 2   Year       1000 non-null   int64  \n",
      " 3   Rec        1000 non-null   int64  \n",
      " 4   Yds        1000 non-null   object \n",
      " 5   Avg        1000 non-null   float64\n",
      " 6   TD         1000 non-null   int64  \n",
      " 7   Stat Type  1000 non-null   object \n",
      "dtypes: float64(1), int64(3), object(4)\n",
      "memory usage: 62.6+ KB\n"
     ]
    }
   ],
   "source": [
    "df_rec.info()"
   ]
  },
  {
   "cell_type": "markdown",
   "id": "5b2b5333",
   "metadata": {},
   "source": [
    "### RUSHING"
   ]
  },
  {
   "cell_type": "code",
   "execution_count": 23,
   "id": "0fd769fd",
   "metadata": {},
   "outputs": [
    {
     "name": "stdout",
     "output_type": "stream",
     "text": [
      "<class 'pandas.core.frame.DataFrame'>\n",
      "RangeIndex: 1000 entries, 0 to 999\n",
      "Data columns (total 10 columns):\n",
      " #   Column     Non-Null Count  Dtype  \n",
      "---  ------     --------------  -----  \n",
      " 0   Player     1000 non-null   object \n",
      " 1   Team       1000 non-null   object \n",
      " 2   Year       1000 non-null   int64  \n",
      " 3   Att        1000 non-null   int64  \n",
      " 4   Gain       1000 non-null   object \n",
      " 5   Loss       1000 non-null   int64  \n",
      " 6   Yds        1000 non-null   object \n",
      " 7   Avg        1000 non-null   float64\n",
      " 8   TD         1000 non-null   int64  \n",
      " 9   Stat Type  1000 non-null   object \n",
      "dtypes: float64(1), int64(4), object(5)\n",
      "memory usage: 78.2+ KB\n"
     ]
    }
   ],
   "source": [
    "df_rus.info()"
   ]
  },
  {
   "cell_type": "markdown",
   "id": "33d7299c",
   "metadata": {},
   "source": [
    "### SCORING"
   ]
  },
  {
   "cell_type": "code",
   "execution_count": 24,
   "id": "f49d352c",
   "metadata": {},
   "outputs": [
    {
     "name": "stdout",
     "output_type": "stream",
     "text": [
      "<class 'pandas.core.frame.DataFrame'>\n",
      "RangeIndex: 700 entries, 0 to 699\n",
      "Data columns (total 7 columns):\n",
      " #   Column     Non-Null Count  Dtype \n",
      "---  ------     --------------  ----- \n",
      " 0   Player     700 non-null    object\n",
      " 1   Team       700 non-null    object\n",
      " 2   Year       700 non-null    int64 \n",
      " 3   Pts        700 non-null    int64 \n",
      " 4   Tot        700 non-null    int64 \n",
      " 5   FG         700 non-null    object\n",
      " 6   Stat Type  700 non-null    object\n",
      "dtypes: int64(3), object(4)\n",
      "memory usage: 38.4+ KB\n"
     ]
    }
   ],
   "source": [
    "df_sco.info()"
   ]
  },
  {
   "cell_type": "markdown",
   "id": "8fb11b89",
   "metadata": {},
   "source": [
    "### KICKING"
   ]
  },
  {
   "cell_type": "code",
   "execution_count": 25,
   "id": "f7bd7ac8",
   "metadata": {},
   "outputs": [
    {
     "name": "stdout",
     "output_type": "stream",
     "text": [
      "<class 'pandas.core.frame.DataFrame'>\n",
      "RangeIndex: 600 entries, 0 to 599\n",
      "Data columns (total 4 columns):\n",
      " #   Column     Non-Null Count  Dtype \n",
      "---  ------     --------------  ----- \n",
      " 0   Player     600 non-null    object\n",
      " 1   Year       600 non-null    int64 \n",
      " 2   Team       600 non-null    object\n",
      " 3   Stat Type  600 non-null    object\n",
      "dtypes: int64(1), object(3)\n",
      "memory usage: 18.9+ KB\n"
     ]
    }
   ],
   "source": [
    "df_kick.info()"
   ]
  },
  {
   "cell_type": "markdown",
   "id": "67a89a57",
   "metadata": {},
   "source": [
    "### KICKOFF"
   ]
  },
  {
   "cell_type": "code",
   "execution_count": 26,
   "id": "293b9828",
   "metadata": {},
   "outputs": [
    {
     "name": "stdout",
     "output_type": "stream",
     "text": [
      "<class 'pandas.core.frame.DataFrame'>\n",
      "RangeIndex: 600 entries, 0 to 599\n",
      "Data columns (total 4 columns):\n",
      " #   Column     Non-Null Count  Dtype \n",
      "---  ------     --------------  ----- \n",
      " 0   Player     600 non-null    object\n",
      " 1   Year       600 non-null    int64 \n",
      " 2   Team       600 non-null    object\n",
      " 3   Stat Type  600 non-null    object\n",
      "dtypes: int64(1), object(3)\n",
      "memory usage: 18.9+ KB\n"
     ]
    }
   ],
   "source": [
    "df_kickoff.info()"
   ]
  },
  {
   "cell_type": "markdown",
   "id": "30cad2b0",
   "metadata": {},
   "source": [
    "### KICKOFF RETURNS"
   ]
  },
  {
   "cell_type": "code",
   "execution_count": 27,
   "id": "5ebe412f",
   "metadata": {},
   "outputs": [
    {
     "name": "stdout",
     "output_type": "stream",
     "text": [
      "<class 'pandas.core.frame.DataFrame'>\n",
      "RangeIndex: 600 entries, 0 to 599\n",
      "Data columns (total 4 columns):\n",
      " #   Column     Non-Null Count  Dtype \n",
      "---  ------     --------------  ----- \n",
      " 0   Player     600 non-null    object\n",
      " 1   Year       600 non-null    int64 \n",
      " 2   Team       600 non-null    object\n",
      " 3   Stat Type  600 non-null    object\n",
      "dtypes: int64(1), object(3)\n",
      "memory usage: 18.9+ KB\n"
     ]
    }
   ],
   "source": [
    "df_kickoffR.info()"
   ]
  },
  {
   "cell_type": "markdown",
   "id": "d876db4d",
   "metadata": {},
   "source": [
    "### PUNTING"
   ]
  },
  {
   "cell_type": "code",
   "execution_count": 28,
   "id": "b6ed3083",
   "metadata": {},
   "outputs": [
    {
     "name": "stdout",
     "output_type": "stream",
     "text": [
      "<class 'pandas.core.frame.DataFrame'>\n",
      "RangeIndex: 514 entries, 0 to 513\n",
      "Data columns (total 4 columns):\n",
      " #   Column     Non-Null Count  Dtype \n",
      "---  ------     --------------  ----- \n",
      " 0   Player     514 non-null    object\n",
      " 1   Year       514 non-null    int64 \n",
      " 2   Team       514 non-null    object\n",
      " 3   Stat Type  514 non-null    object\n",
      "dtypes: int64(1), object(3)\n",
      "memory usage: 16.2+ KB\n"
     ]
    }
   ],
   "source": [
    "df_punt.info()"
   ]
  },
  {
   "cell_type": "markdown",
   "id": "71a93dd9",
   "metadata": {},
   "source": [
    "### PUNT RETURNS"
   ]
  },
  {
   "cell_type": "code",
   "execution_count": 29,
   "id": "3eeb0c3d",
   "metadata": {},
   "outputs": [
    {
     "name": "stdout",
     "output_type": "stream",
     "text": [
      "<class 'pandas.core.frame.DataFrame'>\n",
      "RangeIndex: 600 entries, 0 to 599\n",
      "Data columns (total 4 columns):\n",
      " #   Column     Non-Null Count  Dtype \n",
      "---  ------     --------------  ----- \n",
      " 0   Player     600 non-null    object\n",
      " 1   Year       600 non-null    int64 \n",
      " 2   Team       600 non-null    object\n",
      " 3   Stat Type  600 non-null    object\n",
      "dtypes: int64(1), object(3)\n",
      "memory usage: 18.9+ KB\n"
     ]
    }
   ],
   "source": [
    "df_puntR.info()"
   ]
  },
  {
   "cell_type": "code",
   "execution_count": 30,
   "id": "3227aff3",
   "metadata": {
    "scrolled": false
   },
   "outputs": [
    {
     "name": "stdout",
     "output_type": "stream",
     "text": [
      "<class 'pandas.core.frame.DataFrame'>\n",
      "RangeIndex: 2914 entries, 0 to 2913\n",
      "Data columns (total 4 columns):\n",
      " #   Column     Non-Null Count  Dtype \n",
      "---  ------     --------------  ----- \n",
      " 0   Player     2914 non-null   object\n",
      " 1   Year       2914 non-null   int64 \n",
      " 2   Team       2914 non-null   object\n",
      " 3   Stat Type  2914 non-null   object\n",
      "dtypes: int64(1), object(3)\n",
      "memory usage: 91.2+ KB\n"
     ]
    }
   ],
   "source": [
    "# concat of five dataframes above(kicking, kickoff, kickoff-return, punt-return, punting) for simplicity\n",
    "df_new.info()"
   ]
  },
  {
   "cell_type": "markdown",
   "id": "da63234f",
   "metadata": {},
   "source": [
    "<a id='eda'></a>\n",
    "## 3. Exploratory Data Analysis"
   ]
  },
  {
   "cell_type": "markdown",
   "id": "7b68fa49",
   "metadata": {},
   "source": [
    "Next we'll perform some exploratory data analysis to look a little further. Using isnull() or isna() will show which columns have missing data and how much"
   ]
  },
  {
   "cell_type": "code",
   "execution_count": 31,
   "id": "1027eda5",
   "metadata": {},
   "outputs": [
    {
     "data": {
      "text/plain": [
       "3"
      ]
     },
     "execution_count": 31,
     "metadata": {},
     "output_type": "execute_result"
    }
   ],
   "source": [
    "# by column\n",
    "df_teams_stats.isna().sum()\n",
    "\n",
    "# in the entire dataset\n",
    "df_teams_stats.isnull().sum().sum()"
   ]
  },
  {
   "cell_type": "markdown",
   "id": "6ff58263",
   "metadata": {},
   "source": [
    "The 3 missing values in the team stats dataframe above are in the 'Conference' column. This column is not relevant for the analysis, so it's a non-issue."
   ]
  },
  {
   "cell_type": "code",
   "execution_count": 32,
   "id": "18d74704",
   "metadata": {
    "scrolled": true
   },
   "outputs": [
    {
     "data": {
      "text/plain": [
       "Unnamed: 0            0\n",
       "year                  0\n",
       "name                  0\n",
       "position             19\n",
       "school              280\n",
       "ranking             360\n",
       "rating                0\n",
       "stars                 0\n",
       "committed_to       8521\n",
       "recruit_type          0\n",
       "height               98\n",
       "weight              102\n",
       "city                317\n",
       "state_province      328\n",
       "country             220\n",
       "id                    0\n",
       "athlete_id        17867\n",
       "dtype: int64"
      ]
     },
     "execution_count": 32,
     "metadata": {},
     "output_type": "execute_result"
    }
   ],
   "source": [
    "df_recruits.isna().sum()"
   ]
  },
  {
   "cell_type": "markdown",
   "id": "45aa4876",
   "metadata": {},
   "source": [
    "The recruits dataframe also shows many columns with missing data. Fortunately the most important columns in this dataset are the name, year, and stars. The 'committed to' column is also important and it will be used later. This values in this column will be assigned to a new column which will be the team they actually signed with and played for."
   ]
  },
  {
   "cell_type": "code",
   "execution_count": 33,
   "id": "d7dd80f2",
   "metadata": {},
   "outputs": [
    {
     "data": {
      "text/plain": [
       "Player       0\n",
       "Team         0\n",
       "Year         0\n",
       "Pts          0\n",
       "Tot          0\n",
       "FG           0\n",
       "Stat Type    0\n",
       "dtype: int64"
      ]
     },
     "execution_count": 33,
     "metadata": {},
     "output_type": "execute_result"
    }
   ],
   "source": [
    "# no missing data in the defense, passing, receiving, rushing and scoring dataframes.\n",
    "df_def.isna().sum()\n",
    "\n",
    "# Player       0\n",
    "# Team         0\n",
    "# Year         0\n",
    "# Int          0\n",
    "# TD           0\n",
    "# Solo         0\n",
    "# Ast          0\n",
    "# Tot          0\n",
    "# Sack         0\n",
    "# Stat Type    0\n",
    "\n",
    "df_pas.isna().sum()\n",
    "\n",
    "# Player       0\n",
    "# Team         0\n",
    "# Year         0\n",
    "# Att          0\n",
    "# Cmp          0\n",
    "# Pct          0\n",
    "# Yds          0\n",
    "# TD           0\n",
    "# TD%          0\n",
    "# Int          0\n",
    "# Sack         0\n",
    "# Rate         0\n",
    "# Stat Type    0\n",
    "\n",
    "\n",
    "df_rec.isna().sum()\n",
    "\n",
    "# Player       0\n",
    "# Team         0\n",
    "# Year         0\n",
    "# Rec          0\n",
    "# Yds          0\n",
    "# Avg          0\n",
    "# TD           0\n",
    "# Stat Type    0\n",
    "\n",
    "\n",
    "df_rus.isna().sum()\n",
    "\n",
    "# Player       0\n",
    "# Team         0\n",
    "# Year         0\n",
    "# Att          0\n",
    "# Gain         0\n",
    "# Loss         0\n",
    "# Yds          0\n",
    "# Avg          0\n",
    "# TD           0\n",
    "# Stat Type    0\n",
    "\n",
    "\n",
    "df_sco.isna().sum()\n",
    "\n",
    "# Player       0\n",
    "# Team         0\n",
    "# Year         0\n",
    "# Pts          0\n",
    "# Tot          0\n",
    "# FG           0\n",
    "# Stat Type    0"
   ]
  },
  {
   "cell_type": "code",
   "execution_count": 34,
   "id": "65b0ccdc",
   "metadata": {},
   "outputs": [
    {
     "data": {
      "text/plain": [
       "Player       0\n",
       "Year         0\n",
       "Team         0\n",
       "Stat Type    0\n",
       "dtype: int64"
      ]
     },
     "execution_count": 34,
     "metadata": {},
     "output_type": "execute_result"
    }
   ],
   "source": [
    "# df_new\n",
    "df_new.isna().sum()"
   ]
  },
  {
   "cell_type": "code",
   "execution_count": 35,
   "id": "6fe350ce",
   "metadata": {},
   "outputs": [],
   "source": [
    "# querying the dataset to create a subset\n",
    "df_recruits2011_2022 = df_recruits.query('2011 <= year <= 2022')\n",
    "\n",
    "#  additional rows have been added for year 2011\n",
    "# df_recruits2011_2022 = df_recruits2012_2022\n"
   ]
  },
  {
   "cell_type": "markdown",
   "id": "b06c7587",
   "metadata": {},
   "source": [
    "The teams dataset needs columns to store the two stars groups(2-3, 4-5) for calculating the blue chip ratio per team by year."
   ]
  },
  {
   "cell_type": "code",
   "execution_count": 36,
   "id": "364cedf2",
   "metadata": {},
   "outputs": [],
   "source": [
    "# 4-5 and 2-3 star players\n",
    "df_teams_stats[['2_3.Stars', '4_5.Stars']] = \"\"\n"
   ]
  },
  {
   "cell_type": "markdown",
   "id": "6fa6b528",
   "metadata": {},
   "source": [
    "For consistency I'm renaming the 'name' column in the recruits table to 'Player'."
   ]
  },
  {
   "cell_type": "code",
   "execution_count": 37,
   "id": "970cfac2",
   "metadata": {},
   "outputs": [
    {
     "name": "stderr",
     "output_type": "stream",
     "text": [
      "C:\\Users\\sjohn\\AppData\\Local\\Temp\\ipykernel_11856\\3717788908.py:3: SettingWithCopyWarning: \n",
      "A value is trying to be set on a copy of a slice from a DataFrame\n",
      "\n",
      "See the caveats in the documentation: https://pandas.pydata.org/pandas-docs/stable/user_guide/indexing.html#returning-a-view-versus-a-copy\n",
      "  df_recruits2011_2022.rename(columns={\"name\": \"Player\"}, inplace=True)\n"
     ]
    }
   ],
   "source": [
    "# the years range 2011_2022 at the end of the dataframe name is from a query to narrow down our subset.\n",
    "df_recruits2011_2022.is_copy = False\n",
    "df_recruits2011_2022.rename(columns={\"name\": \"Player\"}, inplace=True)"
   ]
  },
  {
   "cell_type": "code",
   "execution_count": null,
   "id": "2f91fca8",
   "metadata": {},
   "outputs": [],
   "source": []
  },
  {
   "cell_type": "markdown",
   "id": "6f9d65ea",
   "metadata": {},
   "source": [
    "Again to be consistent, I'm moving the 'year' column to the front of the dataframe."
   ]
  },
  {
   "cell_type": "code",
   "execution_count": 38,
   "id": "d975257f",
   "metadata": {},
   "outputs": [],
   "source": [
    "# using .pop for the move, then .insert\n",
    "move_col = df_recruits2011_2022.pop(\"year\")\n",
    "df_recruits2011_2022.insert(2, \"year\", move_col)"
   ]
  },
  {
   "cell_type": "markdown",
   "id": "44b0a0a7",
   "metadata": {},
   "source": [
    "Next I want to concatenate all of the players stats tables together for simplicity. Several columns will be dropped from the concat operation since they are unnecessary for the analysis."
   ]
  },
  {
   "cell_type": "code",
   "execution_count": 39,
   "id": "9a4c36ef",
   "metadata": {},
   "outputs": [],
   "source": [
    "# concatenating the five statistics categories \n",
    "df_concat1 = pd.concat([df_def, df_pas], ignore_index=True)\n",
    "df_concat2 = pd.concat([df_concat1, df_rec], ignore_index=True)\n",
    "df_concat3 = pd.concat([df_concat2, df_rus], ignore_index=True)\n",
    "\n",
    "# final concat dataframe\n",
    "df_concat_final = pd.concat([df_concat3, df_sco, df_new], ignore_index=True)\n"
   ]
  },
  {
   "cell_type": "code",
   "execution_count": 40,
   "id": "2b246d5c",
   "metadata": {},
   "outputs": [
    {
     "name": "stdout",
     "output_type": "stream",
     "text": [
      "<class 'pandas.core.frame.DataFrame'>\n",
      "RangeIndex: 7614 entries, 0 to 7613\n",
      "Data columns (total 22 columns):\n",
      " #   Column     Non-Null Count  Dtype  \n",
      "---  ------     --------------  -----  \n",
      " 0   Player     7614 non-null   object \n",
      " 1   Team       7614 non-null   object \n",
      " 2   Year       7614 non-null   int64  \n",
      " 3   Int        2000 non-null   float64\n",
      " 4   TD         4000 non-null   float64\n",
      " 5   Solo       1000 non-null   float64\n",
      " 6   Ast        1000 non-null   float64\n",
      " 7   Tot        1700 non-null   float64\n",
      " 8   Sack       2000 non-null   object \n",
      " 9   Stat Type  7614 non-null   object \n",
      " 10  Att        2000 non-null   float64\n",
      " 11  Cmp        1000 non-null   float64\n",
      " 12  Pct        1000 non-null   float64\n",
      " 13  Yds        3000 non-null   object \n",
      " 14  TD%        1000 non-null   float64\n",
      " 15  Rate       1000 non-null   float64\n",
      " 16  Rec        1000 non-null   float64\n",
      " 17  Avg        2000 non-null   float64\n",
      " 18  Gain       1000 non-null   object \n",
      " 19  Loss       1000 non-null   float64\n",
      " 20  Pts        700 non-null    float64\n",
      " 21  FG         700 non-null    object \n",
      "dtypes: float64(14), int64(1), object(7)\n",
      "memory usage: 1.3+ MB\n"
     ]
    }
   ],
   "source": [
    "df_concat_final.info()"
   ]
  },
  {
   "cell_type": "markdown",
   "id": "0eb66792",
   "metadata": {},
   "source": [
    "As you can see multiple columns are the result of the concat operation.\n",
    "\n",
    "Again for simplicity, I'm adding a 'Team_Played_For' column in the recruits data and assigning it to the values in the 'committed_to' column. This is because the majority of values listing the school they committed to are the same school they actually played for in the player stats table. This will save time later, because some minor editing tasks will need to be conducted to ensure that the team they committed to was the same they played on and is spelled and formatted correctly in the player stats dataset(df_concat_final). Unfortunately, I was unable to find an automated solution for this, so Excel will be used to edit the.csv files. I will locate the non-matches and set those non-matched schools to be same as the school name in the player statistics dataframe."
   ]
  },
  {
   "cell_type": "code",
   "execution_count": 41,
   "id": "960058fd",
   "metadata": {},
   "outputs": [
    {
     "data": {
      "text/html": [
       "<div>\n",
       "<style scoped>\n",
       "    .dataframe tbody tr th:only-of-type {\n",
       "        vertical-align: middle;\n",
       "    }\n",
       "\n",
       "    .dataframe tbody tr th {\n",
       "        vertical-align: top;\n",
       "    }\n",
       "\n",
       "    .dataframe thead th {\n",
       "        text-align: right;\n",
       "    }\n",
       "</style>\n",
       "<table border=\"1\" class=\"dataframe\">\n",
       "  <thead>\n",
       "    <tr style=\"text-align: right;\">\n",
       "      <th></th>\n",
       "      <th>Unnamed: 0</th>\n",
       "      <th>Player</th>\n",
       "      <th>year</th>\n",
       "      <th>position</th>\n",
       "      <th>school</th>\n",
       "      <th>ranking</th>\n",
       "      <th>rating</th>\n",
       "      <th>stars</th>\n",
       "      <th>committed_to</th>\n",
       "      <th>recruit_type</th>\n",
       "      <th>height</th>\n",
       "      <th>weight</th>\n",
       "      <th>city</th>\n",
       "      <th>state_province</th>\n",
       "      <th>country</th>\n",
       "      <th>id</th>\n",
       "      <th>athlete_id</th>\n",
       "      <th>Team_Played_For</th>\n",
       "    </tr>\n",
       "  </thead>\n",
       "  <tbody>\n",
       "    <tr>\n",
       "      <th>0</th>\n",
       "      <td>0</td>\n",
       "      <td>Dorial Green-Beckham</td>\n",
       "      <td>2012</td>\n",
       "      <td>WR</td>\n",
       "      <td>Hillcrest</td>\n",
       "      <td>1.0</td>\n",
       "      <td>0.9997</td>\n",
       "      <td>5</td>\n",
       "      <td>Missouri</td>\n",
       "      <td>HighSchool</td>\n",
       "      <td>78.0</td>\n",
       "      <td>220.0</td>\n",
       "      <td>Springfield</td>\n",
       "      <td>MO</td>\n",
       "      <td>USA</td>\n",
       "      <td>22037</td>\n",
       "      <td>531380.0</td>\n",
       "      <td>Missouri</td>\n",
       "    </tr>\n",
       "    <tr>\n",
       "      <th>1</th>\n",
       "      <td>1</td>\n",
       "      <td>Mario Edwards</td>\n",
       "      <td>2012</td>\n",
       "      <td>DT</td>\n",
       "      <td>Ryan</td>\n",
       "      <td>2.0</td>\n",
       "      <td>0.9995</td>\n",
       "      <td>5</td>\n",
       "      <td>Florida State</td>\n",
       "      <td>HighSchool</td>\n",
       "      <td>75.0</td>\n",
       "      <td>285.0</td>\n",
       "      <td>Denton</td>\n",
       "      <td>TX</td>\n",
       "      <td>USA</td>\n",
       "      <td>22038</td>\n",
       "      <td>530290.0</td>\n",
       "      <td>Florida State</td>\n",
       "    </tr>\n",
       "    <tr>\n",
       "      <th>2</th>\n",
       "      <td>2</td>\n",
       "      <td>D.J. Humphries</td>\n",
       "      <td>2012</td>\n",
       "      <td>OT</td>\n",
       "      <td>Mallard Creek</td>\n",
       "      <td>3.0</td>\n",
       "      <td>0.9979</td>\n",
       "      <td>5</td>\n",
       "      <td>Florida</td>\n",
       "      <td>HighSchool</td>\n",
       "      <td>77.0</td>\n",
       "      <td>275.0</td>\n",
       "      <td>Charlotte</td>\n",
       "      <td>NC</td>\n",
       "      <td>USA</td>\n",
       "      <td>22039</td>\n",
       "      <td>-1009881.0</td>\n",
       "      <td>Florida</td>\n",
       "    </tr>\n",
       "    <tr>\n",
       "      <th>3</th>\n",
       "      <td>3</td>\n",
       "      <td>Shaq Thompson</td>\n",
       "      <td>2012</td>\n",
       "      <td>S</td>\n",
       "      <td>Grant Union</td>\n",
       "      <td>4.0</td>\n",
       "      <td>0.9975</td>\n",
       "      <td>5</td>\n",
       "      <td>Washington</td>\n",
       "      <td>HighSchool</td>\n",
       "      <td>74.0</td>\n",
       "      <td>210.0</td>\n",
       "      <td>Sacramento</td>\n",
       "      <td>CA</td>\n",
       "      <td>USA</td>\n",
       "      <td>22040</td>\n",
       "      <td>535329.0</td>\n",
       "      <td>Washington</td>\n",
       "    </tr>\n",
       "    <tr>\n",
       "      <th>4</th>\n",
       "      <td>4</td>\n",
       "      <td>Noah Spence</td>\n",
       "      <td>2012</td>\n",
       "      <td>WDE</td>\n",
       "      <td>Bishop McDevitt</td>\n",
       "      <td>5.0</td>\n",
       "      <td>0.9974</td>\n",
       "      <td>5</td>\n",
       "      <td>Ohio State</td>\n",
       "      <td>HighSchool</td>\n",
       "      <td>75.0</td>\n",
       "      <td>235.0</td>\n",
       "      <td>Harrisburg</td>\n",
       "      <td>PA</td>\n",
       "      <td>USA</td>\n",
       "      <td>22041</td>\n",
       "      <td>-1027150.0</td>\n",
       "      <td>Ohio State</td>\n",
       "    </tr>\n",
       "    <tr>\n",
       "      <th>...</th>\n",
       "      <td>...</td>\n",
       "      <td>...</td>\n",
       "      <td>...</td>\n",
       "      <td>...</td>\n",
       "      <td>...</td>\n",
       "      <td>...</td>\n",
       "      <td>...</td>\n",
       "      <td>...</td>\n",
       "      <td>...</td>\n",
       "      <td>...</td>\n",
       "      <td>...</td>\n",
       "      <td>...</td>\n",
       "      <td>...</td>\n",
       "      <td>...</td>\n",
       "      <td>...</td>\n",
       "      <td>...</td>\n",
       "      <td>...</td>\n",
       "      <td>...</td>\n",
       "    </tr>\n",
       "    <tr>\n",
       "      <th>43982</th>\n",
       "      <td>43982</td>\n",
       "      <td>T.Y. Harding</td>\n",
       "      <td>2022</td>\n",
       "      <td>ATH</td>\n",
       "      <td>Buckingham Browne &amp; Nichols School</td>\n",
       "      <td>2220.0</td>\n",
       "      <td>0.7733</td>\n",
       "      <td>2</td>\n",
       "      <td>UMass</td>\n",
       "      <td>HighSchool</td>\n",
       "      <td>69.0</td>\n",
       "      <td>180.0</td>\n",
       "      <td>Cambridge</td>\n",
       "      <td>MA</td>\n",
       "      <td>USA</td>\n",
       "      <td>94369</td>\n",
       "      <td>4909541.0</td>\n",
       "      <td>UMass</td>\n",
       "    </tr>\n",
       "    <tr>\n",
       "      <th>43983</th>\n",
       "      <td>43983</td>\n",
       "      <td>Tate Zimmerman</td>\n",
       "      <td>2022</td>\n",
       "      <td>LB</td>\n",
       "      <td>Irvine</td>\n",
       "      <td>2221.0</td>\n",
       "      <td>0.7733</td>\n",
       "      <td>2</td>\n",
       "      <td>New Mexico</td>\n",
       "      <td>HighSchool</td>\n",
       "      <td>73.0</td>\n",
       "      <td>205.0</td>\n",
       "      <td>Irvine</td>\n",
       "      <td>CA</td>\n",
       "      <td>USA</td>\n",
       "      <td>92313</td>\n",
       "      <td>4912278.0</td>\n",
       "      <td>New Mexico</td>\n",
       "    </tr>\n",
       "    <tr>\n",
       "      <th>43984</th>\n",
       "      <td>43984</td>\n",
       "      <td>Nate Merchant</td>\n",
       "      <td>2022</td>\n",
       "      <td>LS</td>\n",
       "      <td>Easley</td>\n",
       "      <td>2222.0</td>\n",
       "      <td>0.7633</td>\n",
       "      <td>2</td>\n",
       "      <td>Coastal Carolina</td>\n",
       "      <td>HighSchool</td>\n",
       "      <td>73.0</td>\n",
       "      <td>205.0</td>\n",
       "      <td>Easley</td>\n",
       "      <td>SC</td>\n",
       "      <td>USA</td>\n",
       "      <td>92315</td>\n",
       "      <td>5082432.0</td>\n",
       "      <td>Coastal Carolina</td>\n",
       "    </tr>\n",
       "    <tr>\n",
       "      <th>43985</th>\n",
       "      <td>43985</td>\n",
       "      <td>Jack Tremblay</td>\n",
       "      <td>2022</td>\n",
       "      <td>WR</td>\n",
       "      <td>Lincoln-Way East</td>\n",
       "      <td>2223.0</td>\n",
       "      <td>0.7583</td>\n",
       "      <td>2</td>\n",
       "      <td>Central Michigan</td>\n",
       "      <td>HighSchool</td>\n",
       "      <td>72.0</td>\n",
       "      <td>190.0</td>\n",
       "      <td>Frankfort</td>\n",
       "      <td>IL</td>\n",
       "      <td>USA</td>\n",
       "      <td>92316</td>\n",
       "      <td>4895774.0</td>\n",
       "      <td>Central Michigan</td>\n",
       "    </tr>\n",
       "    <tr>\n",
       "      <th>43986</th>\n",
       "      <td>43986</td>\n",
       "      <td>DeJuan Echoles</td>\n",
       "      <td>2022</td>\n",
       "      <td>LB</td>\n",
       "      <td>Warren Central</td>\n",
       "      <td>2224.0</td>\n",
       "      <td>0.7556</td>\n",
       "      <td>2</td>\n",
       "      <td>Ball State</td>\n",
       "      <td>HighSchool</td>\n",
       "      <td>72.0</td>\n",
       "      <td>205.0</td>\n",
       "      <td>Indianapolis</td>\n",
       "      <td>IN</td>\n",
       "      <td>USA</td>\n",
       "      <td>92317</td>\n",
       "      <td>4868896.0</td>\n",
       "      <td>Ball State</td>\n",
       "    </tr>\n",
       "  </tbody>\n",
       "</table>\n",
       "<p>43987 rows × 18 columns</p>\n",
       "</div>"
      ],
      "text/plain": [
       "       Unnamed: 0                Player  year position                              school  ranking  rating  stars      committed_to recruit_type  height  weight          city state_province country     id  athlete_id   Team_Played_For\n",
       "0               0  Dorial Green-Beckham  2012       WR                           Hillcrest      1.0  0.9997      5          Missouri   HighSchool    78.0   220.0   Springfield             MO     USA  22037    531380.0          Missouri\n",
       "1               1         Mario Edwards  2012       DT                                Ryan      2.0  0.9995      5     Florida State   HighSchool    75.0   285.0        Denton             TX     USA  22038    530290.0     Florida State\n",
       "2               2        D.J. Humphries  2012       OT                       Mallard Creek      3.0  0.9979      5           Florida   HighSchool    77.0   275.0     Charlotte             NC     USA  22039  -1009881.0           Florida\n",
       "3               3         Shaq Thompson  2012        S                         Grant Union      4.0  0.9975      5        Washington   HighSchool    74.0   210.0    Sacramento             CA     USA  22040    535329.0        Washington\n",
       "4               4           Noah Spence  2012      WDE                     Bishop McDevitt      5.0  0.9974      5        Ohio State   HighSchool    75.0   235.0    Harrisburg             PA     USA  22041  -1027150.0        Ohio State\n",
       "...           ...                   ...   ...      ...                                 ...      ...     ...    ...               ...          ...     ...     ...           ...            ...     ...    ...         ...               ...\n",
       "43982       43982          T.Y. Harding  2022      ATH  Buckingham Browne & Nichols School   2220.0  0.7733      2             UMass   HighSchool    69.0   180.0     Cambridge             MA     USA  94369   4909541.0             UMass\n",
       "43983       43983        Tate Zimmerman  2022       LB                              Irvine   2221.0  0.7733      2        New Mexico   HighSchool    73.0   205.0        Irvine             CA     USA  92313   4912278.0        New Mexico\n",
       "43984       43984         Nate Merchant  2022       LS                              Easley   2222.0  0.7633      2  Coastal Carolina   HighSchool    73.0   205.0        Easley             SC     USA  92315   5082432.0  Coastal Carolina\n",
       "43985       43985         Jack Tremblay  2022       WR                    Lincoln-Way East   2223.0  0.7583      2  Central Michigan   HighSchool    72.0   190.0     Frankfort             IL     USA  92316   4895774.0  Central Michigan\n",
       "43986       43986        DeJuan Echoles  2022       LB                      Warren Central   2224.0  0.7556      2        Ball State   HighSchool    72.0   205.0  Indianapolis             IN     USA  92317   4868896.0        Ball State\n",
       "\n",
       "[43987 rows x 18 columns]"
      ]
     },
     "execution_count": 41,
     "metadata": {},
     "output_type": "execute_result"
    }
   ],
   "source": [
    "#  adding new column, 'Team_Played_For' to the recruits table set to the 'committed_to' column.\n",
    "df_recruits2011_2022.assign(Team_Played_For = lambda x: df_recruits2011_2022['committed_to'])"
   ]
  },
  {
   "cell_type": "code",
   "execution_count": 42,
   "id": "eb60116b",
   "metadata": {},
   "outputs": [
    {
     "name": "stderr",
     "output_type": "stream",
     "text": [
      "C:\\Users\\sjohn\\AppData\\Local\\Temp\\ipykernel_11856\\3462704936.py:2: SettingWithCopyWarning: \n",
      "A value is trying to be set on a copy of a slice from a DataFrame\n",
      "\n",
      "See the caveats in the documentation: https://pandas.pydata.org/pandas-docs/stable/user_guide/indexing.html#returning-a-view-versus-a-copy\n",
      "  df_recruits2011_2022.drop('Unnamed: 0', axis=1, inplace=True)\n"
     ]
    }
   ],
   "source": [
    "# dropping 'Unnamed'column\n",
    "df_recruits2011_2022.drop('Unnamed: 0', axis=1, inplace=True)"
   ]
  },
  {
   "cell_type": "markdown",
   "id": "763ed792",
   "metadata": {},
   "source": [
    "For now I will use an exact match process using .isin() to find the name matches."
   ]
  },
  {
   "cell_type": "code",
   "execution_count": 43,
   "id": "42eb85c8",
   "metadata": {},
   "outputs": [],
   "source": [
    "# using .isin() to find name matches between the recruits and player statistics dataframe\n",
    "\n",
    "df = df_recruits2011_2022[df_recruits2011_2022['Player'].isin(df_def['Player'])]\n",
    "# checking if a recruit name matches a player name in the defense stats\n",
    "# 468 \n",
    "\n",
    "# # #  checking if a recruit name matches a player name in the passing stats\n",
    "# # # 312\n",
    "df1 = df_recruits2011_2022[df_recruits2011_2022['Player'].isin(df_pas['Player'])]\n",
    "\n",
    "# # #  checking if a recruit name matches a player name in the receiving stats\n",
    "# # # 427\n",
    "df2 = df_recruits2011_2022[df_recruits2011_2022['Player'].isin(df_rec['Player'])]\n",
    "\n",
    "# # #  checking if a recruit name matches a player name in the rushing stats\n",
    "# # # 404\n",
    "df3 =df_recruits2011_2022[df_recruits2011_2022['Player'].isin(df_rus['Player'])]\n",
    "\n",
    "# # #  checking if a recruit name matches a player name in the scoring stats\n",
    "# # # 337\n",
    "df4 = df_recruits2011_2022[df_recruits2011_2022['Player'].isin(df_sco['Player'])]\n",
    "\n",
    "# # #  checking if a recruit name matches a player name in the scoring stats\n",
    "# # # 922\n",
    "df5 =df_recruits2011_2022[df_recruits2011_2022['Player'].isin(df_new['Player'])]\n",
    "\n",
    "df6 = pd.concat([df, df1, df2, df3, df4, df5], ignore_index=True)\n",
    "# 468 + 312 + 427 + 404 + 337 + 922 = 2870"
   ]
  },
  {
   "cell_type": "code",
   "execution_count": 44,
   "id": "0da40b06",
   "metadata": {},
   "outputs": [
    {
     "name": "stdout",
     "output_type": "stream",
     "text": [
      "<class 'pandas.core.frame.DataFrame'>\n",
      "RangeIndex: 2870 entries, 0 to 2869\n",
      "Data columns (total 16 columns):\n",
      " #   Column          Non-Null Count  Dtype  \n",
      "---  ------          --------------  -----  \n",
      " 0   Player          2870 non-null   object \n",
      " 1   Year            2870 non-null   int64  \n",
      " 2   position        2870 non-null   object \n",
      " 3   school          2869 non-null   object \n",
      " 4   ranking         2861 non-null   float64\n",
      " 5   rating          2870 non-null   float64\n",
      " 6   stars           2870 non-null   int64  \n",
      " 7   committed_to    2658 non-null   object \n",
      " 8   recruit_type    2870 non-null   object \n",
      " 9   height          2869 non-null   float64\n",
      " 10  weight          2867 non-null   float64\n",
      " 11  city            2847 non-null   object \n",
      " 12  state_province  2846 non-null   object \n",
      " 13  country         2855 non-null   object \n",
      " 14  id              2870 non-null   int64  \n",
      " 15  athlete_id      2573 non-null   float64\n",
      "dtypes: float64(5), int64(3), object(8)\n",
      "memory usage: 358.9+ KB\n"
     ]
    }
   ],
   "source": [
    "df6.rename({'year': 'Year'}, axis=1, inplace=True)\n",
    "df6.info()"
   ]
  },
  {
   "cell_type": "markdown",
   "id": "96319bc2",
   "metadata": {},
   "source": [
    "Merging the recruits dataset with the player statistics dataset, 'df_concat_final'."
   ]
  },
  {
   "cell_type": "code",
   "execution_count": 45,
   "id": "cf72f3e3",
   "metadata": {},
   "outputs": [],
   "source": [
    "df_recruits_players = pd.merge(df6, df_concat_final, on=['Player', 'Year'])"
   ]
  },
  {
   "cell_type": "markdown",
   "id": "261cf036",
   "metadata": {},
   "source": [
    "Checking for and removing duplicate rows"
   ]
  },
  {
   "cell_type": "code",
   "execution_count": 46,
   "id": "46be7ae1",
   "metadata": {},
   "outputs": [
    {
     "data": {
      "text/plain": [
       "False    661\n",
       "True     321\n",
       "dtype: int64"
      ]
     },
     "execution_count": 46,
     "metadata": {},
     "output_type": "execute_result"
    }
   ],
   "source": [
    "df_recruits_players.duplicated().value_counts()"
   ]
  },
  {
   "cell_type": "code",
   "execution_count": 47,
   "id": "8c13de06",
   "metadata": {},
   "outputs": [],
   "source": [
    "df_recruits_players.drop_duplicates(keep='first', inplace=True)"
   ]
  },
  {
   "cell_type": "markdown",
   "id": "7abcfdc8",
   "metadata": {},
   "source": [
    "Removing columns that are not needed for the analysis."
   ]
  },
  {
   "cell_type": "code",
   "execution_count": 48,
   "id": "5c2f6022",
   "metadata": {},
   "outputs": [],
   "source": [
    "# removing columnS not necessary for the analysis\n",
    "cols = [3, 4, 5, 7, 8, 9, 10, 11, 15, 17, 18, 19, 20, 21, \\\n",
    "       22, 23, 24, 25, 26, 27, 28, 29, 30, 31, 32, 33, 34]\n",
    "df_recruits_players.drop(df_recruits_players.columns[cols], axis=1, inplace=True)\n"
   ]
  },
  {
   "cell_type": "code",
   "execution_count": 49,
   "id": "5547cf4e",
   "metadata": {},
   "outputs": [
    {
     "name": "stdout",
     "output_type": "stream",
     "text": [
      "<class 'pandas.core.frame.DataFrame'>\n",
      "Int64Index: 661 entries, 0 to 981\n",
      "Data columns (total 9 columns):\n",
      " #   Column          Non-Null Count  Dtype \n",
      "---  ------          --------------  ----- \n",
      " 0   Player          661 non-null    object\n",
      " 1   Year            661 non-null    int64 \n",
      " 2   position        661 non-null    object\n",
      " 3   stars           661 non-null    int64 \n",
      " 4   state_province  649 non-null    object\n",
      " 5   country         654 non-null    object\n",
      " 6   id              661 non-null    int64 \n",
      " 7   Team            661 non-null    object\n",
      " 8   FG              65 non-null     object\n",
      "dtypes: int64(3), object(6)\n",
      "memory usage: 51.6+ KB\n"
     ]
    }
   ],
   "source": [
    "df_recruits_players.info()"
   ]
  },
  {
   "cell_type": "markdown",
   "id": "91fc198b",
   "metadata": {},
   "source": [
    "In the second cell we read in our data. In the cell below, the 'recruits' and 'teams' dataframes are the cleaned datasets that were edited in Excel to resolve team names and spellings. The steps performed to this point are the same steps that were previously performed on the these two datasets."
   ]
  },
  {
   "cell_type": "code",
   "execution_count": 50,
   "id": "ab9b88e6",
   "metadata": {},
   "outputs": [],
   "source": [
    "# setting assignmaents for df_teams, df_recruits\n",
    "\n",
    "df_recruits_players = recruits\n",
    "df_teams_stats = teams\n",
    "\n",
    "# renaming to match the df's in the cell below\n",
    "df_teams = teams\n",
    "df_recruits = df_recruits_players"
   ]
  },
  {
   "cell_type": "markdown",
   "id": "85e51d86",
   "metadata": {},
   "source": [
    "The following cell is used to get the star counts between the 2 and 3-star and 4 and 5-star groups."
   ]
  },
  {
   "cell_type": "code",
   "execution_count": 51,
   "id": "08703b77",
   "metadata": {},
   "outputs": [],
   "source": [
    "# getting the star counts for each player group\n",
    "def remove_whitespace(df):\n",
    "    df = df.applymap(lambda x: x.strip() if isinstance(x, str) else x)\n",
    "    return df\n",
    "\n",
    "df_recruits = remove_whitespace(df_recruits)\n",
    "df_teams = remove_whitespace(df_teams)\n",
    "\n",
    "# Assuming here to use Year_Played and not Year_Recruited\n",
    "# Change it in line below if needed\n",
    "year_col = 'Year_Played'\n",
    "stars_counts = df_recruits.groupby(['Team', year_col])['Stars'].value_counts().unstack().fillna(0)\n",
    "\n",
    "# Add '2' and '3' columns to form '2_3', '4' and '5' columns to form '4_5'\n",
    "stars_counts['2_3'] = stars_counts.get(2, 0) + stars_counts.get(3, 0)\n",
    "stars_counts['4_5'] = stars_counts.get(4, 0) + stars_counts.get(5, 0)\n",
    "\n",
    "# Rename the columns to have .Stars\n",
    "stars_counts.columns = [f'{col}.Stars' for col in stars_counts.columns]\n",
    "\n",
    "# Reset index and rename column to do merge later with df_teams\n",
    "stars_counts = stars_counts.reset_index(drop=False)\n",
    "stars_counts = stars_counts.rename(columns={year_col: 'Year'})\n",
    "\n",
    "# Merge to df_teams\n",
    "df_teams = pd.merge(df_teams, stars_counts, how='left', on=['Team', 'Year'], suffixes=['_DROP','']).fillna(0)\n",
    "\n",
    "# calculating the BRC\n",
    "df_teams['Ratio'] = df_teams['2_3.Stars'].div(df_teams['4_5.Stars'])\n",
    "\n",
    "# the Blue-Chip Ratio (BCR) column \n",
    "df_teams['BCR'] = ((df_teams['Ratio']) - 1).abs()\n",
    "\n",
    "\n",
    "drop_cols = [col for col in df_teams.columns if col.endswith('_DROP')]\n",
    "df_teams = df_teams.drop(columns=drop_cols)\n",
    "\n",
    "df_teams.replace([np.inf, -np.inf], np.nan, inplace=True)"
   ]
  },
  {
   "cell_type": "code",
   "execution_count": 52,
   "id": "7ca5ba64",
   "metadata": {},
   "outputs": [
    {
     "name": "stdout",
     "output_type": "stream",
     "text": [
      "<class 'pandas.core.frame.DataFrame'>\n",
      "Int64Index: 970 entries, 0 to 969\n",
      "Data columns (total 19 columns):\n",
      " #   Column                  Non-Null Count  Dtype  \n",
      "---  ------                  --------------  -----  \n",
      " 0   Team                    970 non-null    object \n",
      " 1   Conference              970 non-null    object \n",
      " 2   Year                    970 non-null    int64  \n",
      " 3   Games                   970 non-null    int64  \n",
      " 4   Win                     970 non-null    int64  \n",
      " 5   Loss                    970 non-null    int64  \n",
      " 6   Off.Yards.per.Game      970 non-null    float64\n",
      " 7   Yards.Per.Game.Allowed  970 non-null    float64\n",
      " 8   Touchdowns              970 non-null    int64  \n",
      " 9   Touchdowns.Allowed      970 non-null    int64  \n",
      " 10  1.Stars                 970 non-null    float64\n",
      " 11  2.Stars                 970 non-null    float64\n",
      " 12  3.Stars                 970 non-null    float64\n",
      " 13  4.Stars                 970 non-null    float64\n",
      " 14  5.Stars                 970 non-null    float64\n",
      " 15  2_3.Stars               970 non-null    float64\n",
      " 16  4_5.Stars               970 non-null    float64\n",
      " 17  Ratio                   147 non-null    float64\n",
      " 18  BCR                     147 non-null    float64\n",
      "dtypes: float64(11), int64(6), object(2)\n",
      "memory usage: 151.6+ KB\n"
     ]
    }
   ],
   "source": [
    "df_teams.info()"
   ]
  },
  {
   "cell_type": "markdown",
   "id": "259274f1",
   "metadata": {},
   "source": [
    "The Blue Chip Ratio (BCR) is a measure of team talent. Ratios of 1 or greater are considered to have a low BCR which means that the total number of 2 and 3 star players on a team is greater than the counts of 4 and 5 star players. High BCR values are in the range between 0 and 1, indicating teams with a higher BCR."
   ]
  },
  {
   "cell_type": "code",
   "execution_count": 53,
   "id": "b27ae039",
   "metadata": {},
   "outputs": [],
   "source": [
    "# dropping additional columns\n",
    "cols = [6, 7, 8, 9]\n",
    "df_teams.drop(df_teams.columns[cols], axis=1, inplace=True)"
   ]
  },
  {
   "cell_type": "code",
   "execution_count": 54,
   "id": "6157ea52",
   "metadata": {
    "scrolled": false
   },
   "outputs": [
    {
     "data": {
      "image/png": "[encoded data removed]",
      "text/plain": [
       "<Figure size 640x480 with 1 Axes>"
      ]
     },
     "metadata": {},
     "output_type": "display_data"
    }
   ],
   "source": [
    "# quick scatter plot of the teams data\n",
    "x = df_teams['BCR']\n",
    "y = df_teams['Win']\n",
    "\n",
    "plt.scatter(x, y)\n",
    "plt.xlabel = 'BCR'\n",
    "plt.ylabel = 'Win'\n",
    "plt.show()"
   ]
  },
  {
   "cell_type": "code",
   "execution_count": 55,
   "id": "3f272b16",
   "metadata": {},
   "outputs": [],
   "source": [
    "# removing outliers\n",
    "df_teams = df_teams.query('BCR < 12')"
   ]
  },
  {
   "cell_type": "markdown",
   "id": "c948daf3",
   "metadata": {},
   "source": [
    "Next we'll split the teams data into two subgroups, low and high blue-chip ratios. To refresh, the high BCR group are ratios between 0 and 1, indicating that teams in this BCR range had more 4- and 5-star players on their rosters when compared to the rest of the team(2- and 3-star players)."
   ]
  },
  {
   "cell_type": "code",
   "execution_count": 56,
   "id": "4903fd72",
   "metadata": {},
   "outputs": [],
   "source": [
    "# high_bcr < 1\n",
    "high_bcr = df_teams.query('0 < BCR < 1')\n",
    "\n",
    "#low_bcr >= 1 \n",
    "low_bcr = df_teams.query('BCR >= 1')"
   ]
  },
  {
   "cell_type": "code",
   "execution_count": 57,
   "id": "0d4ff3f5",
   "metadata": {},
   "outputs": [],
   "source": [
    "# high + low blue-chip ratios\n",
    "bcr = df_teams.query('BCR > 0')\n",
    "low_bcr =  low_bcr[low_bcr['Ratio'] > 1]\n",
    "high_bcr = high_bcr[high_bcr['Ratio'] < 1]"
   ]
  },
  {
   "cell_type": "code",
   "execution_count": 58,
   "id": "da6cb057",
   "metadata": {},
   "outputs": [
    {
     "data": {
      "text/plain": [
       "39"
      ]
     },
     "execution_count": 58,
     "metadata": {},
     "output_type": "execute_result"
    }
   ],
   "source": [
    "# bcr.shape[0]\n",
    "# high_bcr.sample(7)\n",
    "high_bcr.query('BCR < 1').shape[0]\n",
    "# low_bcr.query('BCR >= 1').shape[0]"
   ]
  },
  {
   "cell_type": "code",
   "execution_count": 59,
   "id": "b6d76bb2",
   "metadata": {},
   "outputs": [
    {
     "data": {
      "text/plain": [
       "Team          39\n",
       "Conference    39\n",
       "Year          39\n",
       "Games         39\n",
       "Win           39\n",
       "Loss          39\n",
       "1.Stars       39\n",
       "2.Stars       39\n",
       "3.Stars       39\n",
       "4.Stars       39\n",
       "5.Stars       39\n",
       "2_3.Stars     39\n",
       "4_5.Stars     39\n",
       "Ratio         39\n",
       "BCR           39\n",
       "dtype: int64"
      ]
     },
     "execution_count": 59,
     "metadata": {},
     "output_type": "execute_result"
    }
   ],
   "source": [
    "high_bcr[high_bcr['Ratio'] < 1].count()"
   ]
  },
  {
   "cell_type": "code",
   "execution_count": 60,
   "id": "0b3a74e2",
   "metadata": {},
   "outputs": [
    {
     "data": {
      "text/plain": [
       "39"
      ]
     },
     "execution_count": 60,
     "metadata": {},
     "output_type": "execute_result"
    }
   ],
   "source": [
    "high_bcr.shape[0]"
   ]
  },
  {
   "cell_type": "code",
   "execution_count": 61,
   "id": "f5be63d8",
   "metadata": {},
   "outputs": [
    {
     "data": {
      "text/plain": [
       "45"
      ]
     },
     "execution_count": 61,
     "metadata": {},
     "output_type": "execute_result"
    }
   ],
   "source": [
    "low_bcr.shape[0]"
   ]
  },
  {
   "cell_type": "code",
   "execution_count": 62,
   "id": "2a96ce6f",
   "metadata": {},
   "outputs": [],
   "source": [
    "# concating high and low bcr together as bcr\n",
    "bcr = pd.concat([high_bcr, low_bcr])"
   ]
  },
  {
   "cell_type": "markdown",
   "id": "ad677c03",
   "metadata": {},
   "source": [
    "#### Obtaining the Correlation Coefficient"
   ]
  },
  {
   "cell_type": "code",
   "execution_count": 63,
   "id": "27371667",
   "metadata": {},
   "outputs": [
    {
     "data": {
      "text/plain": [
       "0.0741544979368181"
      ]
     },
     "execution_count": 63,
     "metadata": {},
     "output_type": "execute_result"
    }
   ],
   "source": [
    "bcr['Win'].corr(bcr['BCR'])\n"
   ]
  },
  {
   "cell_type": "code",
   "execution_count": 64,
   "id": "7ac88ae7",
   "metadata": {},
   "outputs": [
    {
     "data": {
      "text/plain": [
       "0.1862957199155974"
      ]
     },
     "execution_count": 64,
     "metadata": {},
     "output_type": "execute_result"
    }
   ],
   "source": [
    "high_bcr['Win'].corr(high_bcr['BCR'])\n"
   ]
  },
  {
   "cell_type": "code",
   "execution_count": 65,
   "id": "2b75e00b",
   "metadata": {},
   "outputs": [
    {
     "data": {
      "text/plain": [
       "0.09121918154992616"
      ]
     },
     "execution_count": 65,
     "metadata": {},
     "output_type": "execute_result"
    }
   ],
   "source": [
    "low_bcr['Win'].corr(low_bcr['BCR'])\n"
   ]
  },
  {
   "cell_type": "markdown",
   "id": "ee51130d",
   "metadata": {},
   "source": [
    "Since the correlation coefficient is closer to zero rather than 1 or -1, this is a strong indicator that the relationship between these two variables is weak."
   ]
  },
  {
   "cell_type": "code",
   "execution_count": 66,
   "id": "3554cc32",
   "metadata": {
    "scrolled": false
   },
   "outputs": [],
   "source": [
    "# querying for top ten teams\n",
    "df = pd.DataFrame(high_bcr, columns=['Team', 'Year', 'BCR'])\n",
    "top_ten_bcr = df.nlargest(n=10, columns=['BCR'])\n",
    "\n",
    "top_ten_bcr.BCR = top_ten_bcr.BCR.round(2)"
   ]
  },
  {
   "cell_type": "code",
   "execution_count": 67,
   "id": "01411d06",
   "metadata": {
    "scrolled": true
   },
   "outputs": [
    {
     "data": {
      "image/png": "[encoded data removed]",
      "text/plain": [
       "<Figure size 640x480 with 1 Axes>"
      ]
     },
     "metadata": {},
     "output_type": "display_data"
    }
   ],
   "source": [
    "# creating a table of top ten teams\n",
    "fig, ax = plt.subplots()\n",
    "ax.axis('off')\n",
    "ax.axis('auto')\n",
    "ax.set_title('Top Ten Teams With The Highest BCR FROM 2013 - 2018')\n",
    "fig.subplots_adjust(top=0.5)\n",
    "tab = ax.table(cellText=top_ten_bcr.values, colWidths = [0.3]*len(top_ten_bcr.columns),  colLabels=top_ten_bcr.columns,  loc='center')\n",
    "tab.auto_set_font_size(False) \n",
    "tab.set_fontsize(9)\n",
    "tab.loc='center'\n",
    "# fig.constrained_layout()\n",
    "# display(topten)\n",
    "plt.show()"
   ]
  },
  {
   "cell_type": "code",
   "execution_count": 68,
   "id": "3aeb3c01",
   "metadata": {},
   "outputs": [
    {
     "data": {
      "image/png": "[encoded data removed]",
      "text/plain": [
       "<Figure size 640x480 with 1 Axes>"
      ]
     },
     "metadata": {},
     "output_type": "display_data"
    }
   ],
   "source": [
    "# use of reload() is due to an error I was unable to solve. Reloading matplotlib.pyplot seemed to fix it.\n",
    "reload(plt)\n",
    "\n",
    "plt.hist(bcr.BCR)\n",
    "plt.xlabel('BCR')\n",
    "plt.ylabel('Frequency')\n",
    "plt.grid()\n"
   ]
  },
  {
   "cell_type": "code",
   "execution_count": 69,
   "id": "8d59c5ed",
   "metadata": {},
   "outputs": [
    {
     "data": {
      "image/png": "[encoded data removed]",
      "text/plain": [
       "<Figure size 640x480 with 1 Axes>"
      ]
     },
     "metadata": {},
     "output_type": "display_data"
    }
   ],
   "source": [
    "# high blue-chip ratio histogram\n",
    "plt.hist(high_bcr.BCR)\n",
    "plt.xlabel('BCR')\n",
    "plt.ylabel('Frequency')\n",
    "plt.grid()"
   ]
  },
  {
   "cell_type": "code",
   "execution_count": 70,
   "id": "cf0e34ed",
   "metadata": {},
   "outputs": [
    {
     "data": {
      "image/png": "[encoded data removed]",
      "text/plain": [
       "<Figure size 640x480 with 1 Axes>"
      ]
     },
     "metadata": {},
     "output_type": "display_data"
    }
   ],
   "source": [
    "# low blue-chip ratio histogram\n",
    "plt.hist(low_bcr.BCR)\n",
    "plt.xlabel('BCR')\n",
    "plt.ylabel('Frequency')\n",
    "plt.grid()"
   ]
  },
  {
   "cell_type": "code",
   "execution_count": 71,
   "id": "92a3ca34",
   "metadata": {},
   "outputs": [],
   "source": [
    "# assigning arrays to dataframe columns for plotting\n",
    "\n",
    "df = high_bcr['BCR']\n",
    "df1 = low_bcr['BCR']\n",
    "arr_hbcr = df.to_numpy().flatten()\n",
    "arr_lbcr = df1.to_numpy().flatten()"
   ]
  },
  {
   "cell_type": "code",
   "execution_count": 72,
   "id": "e756ce8b",
   "metadata": {
    "scrolled": false
   },
   "outputs": [
    {
     "data": {
      "text/plain": [
       "<matplotlib.legend.Legend at 0x1bc375b7d60>"
      ]
     },
     "execution_count": 72,
     "metadata": {},
     "output_type": "execute_result"
    },
    {
     "data": {
      "image/png": "[encoded data removed]",
      "text/plain": [
       "<Figure size 640x480 with 1 Axes>"
      ]
     },
     "metadata": {},
     "output_type": "display_data"
    }
   ],
   "source": [
    "# histogram\n",
    "fig = plt.figure() \n",
    "ax = fig.add_subplot()\n",
    "plt.title(\"Blue-Chip Ratio: Range Comparison\")\n",
    "ax.set_xlabel('Range')\n",
    "ax.set_ylabel('Frequency')\n",
    "\n",
    "ax.hist([arr_hbcr, arr_lbcr], label=(\"high_bcr\", \"low_bcr\"), range=[0, 10], bins=7)\n",
    "ax.legend()"
   ]
  },
  {
   "cell_type": "markdown",
   "id": "0f863324",
   "metadata": {},
   "source": [
    "<a id='regression'></a>\n",
    "## 4. Linear Regression"
   ]
  },
  {
   "cell_type": "markdown",
   "id": "3da4f00a",
   "metadata": {},
   "source": [
    "For this section we'll create simple linear regression models to be fitted to the data. I'll use Sklearn and Statsmodels to find out which method is more appropriate for our dataframes. We'll make use of scatter plots with Sklearn and Seaborn for  visualizations.\n",
    "\n",
    "Before we can perform the analysis we need to do some housekeeping tasks and to assign our x,y variables. Our x values are high_bcr, low_bcr(x1) and bcr(x2), and the y value is our dependent variable, 'Win'. The \"housekeeping\" I am referring to is ensuring that the data is in a format the model can work with, a one dimensional array."
   ]
  },
  {
   "cell_type": "markdown",
   "id": "dc04d7cb",
   "metadata": {},
   "source": [
    "<a id='sk'></a>\n",
    "### 4.1 Sklearn"
   ]
  },
  {
   "cell_type": "code",
   "execution_count": 73,
   "id": "3c08d0dd",
   "metadata": {},
   "outputs": [],
   "source": [
    "# using Sklearn's train_test_split function to build linear regression model - high_bcr\n",
    "\n",
    "X = np.array(high_bcr['BCR'].values.reshape(-1,1))\n",
    "y = np.array(high_bcr['Win'].values.reshape(-1,1))\n",
    "\n",
    "X_train, X_test, y_train, y_test = train_test_split(X, y, test_size = 0.25, random_state=42)"
   ]
  },
  {
   "cell_type": "code",
   "execution_count": 74,
   "id": "18a803eb",
   "metadata": {
    "scrolled": false
   },
   "outputs": [
    {
     "data": {
      "image/png": "[encoded data removed]",
      "text/plain": [
       "<Figure size 640x480 with 1 Axes>"
      ]
     },
     "metadata": {},
     "output_type": "display_data"
    }
   ],
   "source": [
    "# high_bcr\n",
    "\n",
    "regLR = LinearRegression()\n",
    "regLR.fit(X_train, y_train)\n",
    "\n",
    "y_pred = regLR.predict(X_test)\n",
    "\n",
    "plt.scatter(X_test, y_test,  color='c')\n",
    "plt.plot(X_test, y_pred, color='k', linewidth=1, alpha=0.4)\n",
    "plt.title(\"High Blue-Chip Ratio\")\n",
    "plt.xlabel(\"High BCR\")\n",
    "plt.ylabel(\"Win\")\n",
    "\n",
    "# print(regLR.score(X_test, y_test))\n",
    "\n",
    "plt.show()"
   ]
  },
  {
   "cell_type": "code",
   "execution_count": 75,
   "id": "334ffad8",
   "metadata": {},
   "outputs": [
    {
     "name": "stdout",
     "output_type": "stream",
     "text": [
      "-0.1531619035160281\n"
     ]
    }
   ],
   "source": [
    "# r-square\n",
    "print(regLR.score(X_test, y_test))"
   ]
  },
  {
   "cell_type": "code",
   "execution_count": 76,
   "id": "25a28e52",
   "metadata": {},
   "outputs": [],
   "source": [
    "# using Sklearn's train_test_split function to build linear regression model - low_bcr\n",
    "\n",
    "X = np.array(low_bcr['BCR'].values.reshape(-1,1))\n",
    "y = np.array(low_bcr['Win'].values.reshape(-1,1))\n",
    "\n",
    "X_train, X_test, y_train, y_test = train_test_split(X, y, test_size = 0.25, random_state=42)"
   ]
  },
  {
   "cell_type": "code",
   "execution_count": 77,
   "id": "b607211f",
   "metadata": {},
   "outputs": [
    {
     "data": {
      "image/png": "[encoded data removed]",
      "text/plain": [
       "<Figure size 640x480 with 1 Axes>"
      ]
     },
     "metadata": {},
     "output_type": "display_data"
    }
   ],
   "source": [
    "# low_bcr\n",
    "\n",
    "regLR1 = LinearRegression()\n",
    "regLR1.fit(X_train, y_train)\n",
    "\n",
    "y_pred = regLR1.predict(X_test)\n",
    "\n",
    "\n",
    "plt.scatter(X_test, y_test,  color='c')\n",
    "plt.plot(X_test, y_pred, color='k', linewidth=1, alpha=0.4)\n",
    "plt.title(\"Low Blue-Chip Ratio\")\n",
    "plt.xlabel(\"Low BCR\")\n",
    "plt.ylabel(\"Win\")\n",
    "\n",
    "# print(regLR.score(X_test, y_test))\n",
    "\n",
    "plt.show()"
   ]
  },
  {
   "cell_type": "code",
   "execution_count": 78,
   "id": "4d35aca5",
   "metadata": {},
   "outputs": [],
   "source": [
    "# using Sklearn's train_test_split function to build linear regression model - all_data(bcr)\n",
    "\n",
    "X = np.array(bcr['BCR'].values.reshape(-1,1))\n",
    "y = np.array(bcr['Win'].values.reshape(-1,1))\n",
    "\n",
    "X_train, X_test, y_train, y_test = train_test_split(X, y, test_size = 0.25, random_state=42)"
   ]
  },
  {
   "cell_type": "code",
   "execution_count": 79,
   "id": "6572837a",
   "metadata": {},
   "outputs": [
    {
     "data": {
      "image/png": "[encoded data removed]",
      "text/plain": [
       "<Figure size 640x480 with 1 Axes>"
      ]
     },
     "metadata": {},
     "output_type": "display_data"
    }
   ],
   "source": [
    "# bcr\n",
    "\n",
    "regLR2 = LinearRegression()\n",
    "regLR2.fit(X_train, y_train)\n",
    "\n",
    "y_pred = regLR.predict(X_test)\n",
    "\n",
    "plt.scatter(X_test, y_test,  color='c')\n",
    "plt.plot(X_test, y_pred, color='k', linewidth=1, alpha=0.4)\n",
    "plt.title(\"Blue-Chip Ratio (High & Low)\")\n",
    "plt.xlabel(\"Blue-Chip Ratio\")\n",
    "plt.ylabel(\"Win\")\n",
    "\n",
    "# print(regLR.score(X_test, y_test))\n",
    "\n",
    "plt.show()"
   ]
  },
  {
   "cell_type": "markdown",
   "id": "1dccac54",
   "metadata": {},
   "source": [
    "Let's check some statistical values."
   ]
  },
  {
   "cell_type": "code",
   "execution_count": 80,
   "id": "18950a2e",
   "metadata": {},
   "outputs": [
    {
     "name": "stdout",
     "output_type": "stream",
     "text": [
      "High Blue-Chip Ratio\n",
      "BCR: intercept: [5.58137766]  coefficient: [[3.52768192]] R-square:  -7.776195557815321\n"
     ]
    }
   ],
   "source": [
    "print(\"High Blue-Chip Ratio\")\n",
    "print(\"BCR: intercept:\", regLR.intercept_, \" coefficient:\", regLR.coef_, \"R-square: \", regLR.score(X_test, y_test))"
   ]
  },
  {
   "cell_type": "code",
   "execution_count": 81,
   "id": "38aea7aa",
   "metadata": {},
   "outputs": [
    {
     "name": "stdout",
     "output_type": "stream",
     "text": [
      "Low Blue-Chip Ratio\n",
      "BCR: intercept: [7.86649059]  coefficient: [[-0.00691569]] R-square:  -0.03230522099280142\n"
     ]
    }
   ],
   "source": [
    "print(\"Low Blue-Chip Ratio\")\n",
    "print(\"BCR: intercept:\", regLR1.intercept_, \" coefficient:\", regLR1.coef_, \"R-square: \", regLR1.score(X_test, y_test))"
   ]
  },
  {
   "cell_type": "code",
   "execution_count": 82,
   "id": "2b6038e2",
   "metadata": {},
   "outputs": [
    {
     "name": "stdout",
     "output_type": "stream",
     "text": [
      "All Blue-Chip Ratio\n",
      "BCR: intercept: [6.700917]  coefficient: [[0.20401538]] R-square:  -0.23773764647378548\n"
     ]
    }
   ],
   "source": [
    "print(\"All Blue-Chip Ratio\")\n",
    "print(\"BCR: intercept:\", regLR2.intercept_, \" coefficient:\", regLR2.coef_, \"R-square: \", regLR2.score(X_test, y_test))"
   ]
  },
  {
   "cell_type": "markdown",
   "id": "b59c3c1e",
   "metadata": {},
   "source": [
    "<a id='sm'></a>\n",
    "### 4.2 Statsmodels"
   ]
  },
  {
   "cell_type": "code",
   "execution_count": 83,
   "id": "727303d7",
   "metadata": {},
   "outputs": [],
   "source": [
    "# reshaping the data to 1-D array with Numpy\n",
    "\n",
    "# high_bcr\n",
    "x = np.array(high_bcr['BCR'].values.reshape(-1,1))\n",
    "y = np.array(high_bcr['Win'].values.reshape(-1,1))\n",
    "\n",
    "# # low_bcr\n",
    "x1 = np.array(low_bcr['BCR'].values.reshape(-1,1))\n",
    "y1 = np.array(low_bcr['Win'].values.reshape(-1,1))\n",
    "\n",
    "# # bcr\n",
    "x2 = np.array(bcr['BCR'].values.reshape(-1,1))\n",
    "y2 = np.array(bcr['Win'].values.reshape(-1,1))\n"
   ]
  },
  {
   "cell_type": "code",
   "execution_count": 84,
   "id": "587e5b28",
   "metadata": {
    "scrolled": true
   },
   "outputs": [
    {
     "name": "stdout",
     "output_type": "stream",
     "text": [
      "                            OLS Regression Results                            \n",
      "==============================================================================\n",
      "Dep. Variable:                    Win   R-squared:                       0.035\n",
      "Model:                            OLS   Adj. R-squared:                  0.009\n",
      "Method:                 Least Squares   F-statistic:                     1.330\n",
      "Date:                Thu, 17 Aug 2023   Prob (F-statistic):              0.256\n",
      "Time:                        13:15:23   Log-Likelihood:                -98.114\n",
      "No. Observations:                  39   AIC:                             200.2\n",
      "Df Residuals:                      37   BIC:                             203.6\n",
      "Df Model:                           1                                         \n",
      "Covariance Type:            nonrobust                                         \n",
      "==============================================================================\n",
      "                 coef    std err          t      P>|t|      [0.025      0.975]\n",
      "------------------------------------------------------------------------------\n",
      "const          5.7525      1.435      4.008      0.000       2.844       8.661\n",
      "BCR            2.8606      2.480      1.153      0.256      -2.165       7.886\n",
      "==============================================================================\n",
      "Omnibus:                        0.912   Durbin-Watson:                   1.652\n",
      "Prob(Omnibus):                  0.634   Jarque-Bera (JB):                0.846\n",
      "Skew:                          -0.115   Prob(JB):                        0.655\n",
      "Kurtosis:                       2.317   Cond. No.                         6.57\n",
      "==============================================================================\n",
      "\n",
      "Notes:\n",
      "[1] Standard Errors assume that the covariance matrix of the errors is correctly specified.\n",
      "eval_env: 1\n"
     ]
    },
    {
     "data": {
      "image/png": "[encoded data removed]",
      "text/plain": [
       "<Figure size 1400x800 with 4 Axes>"
      ]
     },
     "metadata": {},
     "output_type": "display_data"
    }
   ],
   "source": [
    "# from statsmodels OLS linear regression\n",
    "#  high bcr\n",
    "\n",
    "x = high_bcr['BCR']\n",
    "y = high_bcr['Win']\n",
    "\n",
    "X2 = sm.add_constant(x)\n",
    "\n",
    "mod = sm.OLS(y, X2)\n",
    "result = mod.fit()\n",
    "\n",
    "print(result.summary())\n",
    "\n",
    "\n",
    "# regression plots with residuals\n",
    "fig = plt.figure(figsize=(14, 8))\n",
    "\n",
    "fig = sm.graphics.plot_regress_exog(result, 'BCR', fig=fig)"
   ]
  },
  {
   "cell_type": "code",
   "execution_count": 85,
   "id": "1a82663f",
   "metadata": {},
   "outputs": [
    {
     "name": "stdout",
     "output_type": "stream",
     "text": [
      "                            OLS Regression Results                            \n",
      "==============================================================================\n",
      "Dep. Variable:                    Win   R-squared:                       0.008\n",
      "Model:                            OLS   Adj. R-squared:                 -0.015\n",
      "Method:                 Least Squares   F-statistic:                    0.3608\n",
      "Date:                Thu, 17 Aug 2023   Prob (F-statistic):              0.551\n",
      "Time:                        13:15:24   Log-Likelihood:                -114.81\n",
      "No. Observations:                  45   AIC:                             233.6\n",
      "Df Residuals:                      43   BIC:                             237.2\n",
      "Df Model:                           1                                         \n",
      "Covariance Type:            nonrobust                                         \n",
      "==============================================================================\n",
      "                 coef    std err          t      P>|t|      [0.025      0.975]\n",
      "------------------------------------------------------------------------------\n",
      "const          7.0209      0.819      8.575      0.000       5.370       8.672\n",
      "BCR            0.1488      0.248      0.601      0.551      -0.351       0.648\n",
      "==============================================================================\n",
      "Omnibus:                        0.792   Durbin-Watson:                   1.960\n",
      "Prob(Omnibus):                  0.673   Jarque-Bera (JB):                0.393\n",
      "Skew:                          -0.225   Prob(JB):                        0.821\n",
      "Kurtosis:                       3.081   Cond. No.                         6.08\n",
      "==============================================================================\n",
      "\n",
      "Notes:\n",
      "[1] Standard Errors assume that the covariance matrix of the errors is correctly specified.\n",
      "eval_env: 1\n"
     ]
    },
    {
     "data": {
      "image/png": "[encoded data removed]",
      "text/plain": [
       "<Figure size 1400x800 with 4 Axes>"
      ]
     },
     "metadata": {},
     "output_type": "display_data"
    }
   ],
   "source": [
    "# from statsmodels\n",
    "# low bcr\n",
    "\n",
    "x1 = low_bcr['BCR']\n",
    "y1 = low_bcr['Win']\n",
    "\n",
    "X2 = sm.add_constant(x1)\n",
    "\n",
    "mod = sm.OLS(y1, X2)\n",
    "result = mod.fit()\n",
    "\n",
    "print(result.summary())\n",
    "\n",
    "# regression plots with residuals\n",
    "fig = plt.figure(figsize=(14, 8))\n",
    "fig = sm.graphics.plot_regress_exog(result, 'BCR', fig=fig)"
   ]
  },
  {
   "cell_type": "code",
   "execution_count": 86,
   "id": "1e8f48ba",
   "metadata": {},
   "outputs": [
    {
     "name": "stdout",
     "output_type": "stream",
     "text": [
      "                            OLS Regression Results                            \n",
      "==============================================================================\n",
      "Dep. Variable:                    Win   R-squared:                       0.005\n",
      "Model:                            OLS   Adj. R-squared:                 -0.007\n",
      "Method:                 Least Squares   F-statistic:                    0.4534\n",
      "Date:                Thu, 17 Aug 2023   Prob (F-statistic):              0.503\n",
      "Time:                        13:15:25   Log-Likelihood:                -213.60\n",
      "No. Observations:                  84   AIC:                             431.2\n",
      "Df Residuals:                      82   BIC:                             436.1\n",
      "Df Model:                           1                                         \n",
      "Covariance Type:            nonrobust                                         \n",
      "==============================================================================\n",
      "                 coef    std err          t      P>|t|      [0.025      0.975]\n",
      "------------------------------------------------------------------------------\n",
      "const          7.1495      0.471     15.181      0.000       6.213       8.086\n",
      "BCR            0.1293      0.192      0.673      0.503      -0.253       0.511\n",
      "==============================================================================\n",
      "Omnibus:                        0.736   Durbin-Watson:                   1.808\n",
      "Prob(Omnibus):                  0.692   Jarque-Bera (JB):                0.802\n",
      "Skew:                          -0.211   Prob(JB):                        0.670\n",
      "Kurtosis:                       2.775   Cond. No.                         3.69\n",
      "==============================================================================\n",
      "\n",
      "Notes:\n",
      "[1] Standard Errors assume that the covariance matrix of the errors is correctly specified.\n",
      "eval_env: 1\n"
     ]
    },
    {
     "data": {
      "image/png": "[encoded data removed]",
      "text/plain": [
       "<Figure size 1400x800 with 4 Axes>"
      ]
     },
     "metadata": {},
     "output_type": "display_data"
    }
   ],
   "source": [
    "# from statsmodels\n",
    "\n",
    "# bcr = high and low bcr\n",
    "\n",
    "x2 = bcr['BCR']\n",
    "y2 = bcr['Win']\n",
    "\n",
    "X3 = sm.add_constant(x2)\n",
    "\n",
    "mod = sm.OLS(y2, X3)\n",
    "result = mod.fit()\n",
    "\n",
    "print(result.summary())\n",
    "\n",
    "# regression plots with residuals\n",
    "fig = plt.figure(figsize=(14, 8))\n",
    "fig = sm.graphics.plot_regress_exog(result, 'BCR', fig=fig)"
   ]
  },
  {
   "cell_type": "code",
   "execution_count": 87,
   "id": "6bc67ae0",
   "metadata": {
    "scrolled": false
   },
   "outputs": [
    {
     "data": {
      "image/png": "[encoded data removed]",
      "text/plain": [
       "<Figure size 640x480 with 1 Axes>"
      ]
     },
     "metadata": {},
     "output_type": "display_data"
    }
   ],
   "source": [
    "#  using seaborn's regplot\n",
    "x = high_bcr['BCR']\n",
    "y = high_bcr['Win']\n",
    "\n",
    "ax = sns.regplot(x, y, scatter_kws={\"color\": \"blue\"}, line_kws={\"color\": \"orange\"})\n",
    "plt.title(\"High Blue-Chip Ratio\")\n",
    "plt.show()"
   ]
  },
  {
   "cell_type": "code",
   "execution_count": 88,
   "id": "70462592",
   "metadata": {},
   "outputs": [
    {
     "data": {
      "image/png": "[encoded data removed]",
      "text/plain": [
       "<Figure size 640x480 with 1 Axes>"
      ]
     },
     "metadata": {},
     "output_type": "display_data"
    }
   ],
   "source": [
    "x = low_bcr['BCR']\n",
    "y = low_bcr['Win']\n",
    "\n",
    "ax = sns.regplot(x, y, scatter_kws={\"color\": \"blue\"}, line_kws={\"color\": \"orange\"})\n",
    "plt.title(\"Low Blue-Chip Ratio\")\n",
    "plt.show()"
   ]
  },
  {
   "cell_type": "code",
   "execution_count": 89,
   "id": "770401e0",
   "metadata": {
    "scrolled": false
   },
   "outputs": [
    {
     "data": {
      "image/png": "[encoded data removed]",
      "text/plain": [
       "<Figure size 640x480 with 1 Axes>"
      ]
     },
     "metadata": {},
     "output_type": "display_data"
    }
   ],
   "source": [
    "x = bcr['BCR']\n",
    "y = bcr['Win']\n",
    "\n",
    "ax = sns.regplot(x, y, scatter_kws={\"color\": \"blue\"}, line_kws={\"color\": \"orange\"})\n",
    "plt.title(\"Blue-Chip Ratio - All Data\")\n",
    "plt.show()"
   ]
  },
  {
   "cell_type": "markdown",
   "id": "f8cc1da3",
   "metadata": {},
   "source": [
    "<a id='conclusion'></a>\n",
    "## Conclusion"
   ]
  },
  {
   "cell_type": "markdown",
   "id": "2211324f",
   "metadata": {},
   "source": [
    "These were challenging datasets to work with. The choice to use Sklearn was simply to validate the suitability of the data for regression; it is clear from the scatter plots that the data did not fit the trend lines well, probably due a variety of factors, the main one being the small sample size. Outliers were also a challenge when deciding on what range of values to keep. Statsmodels results did not fare much better as it illustrates some heteroscedasticity, or unequal variances between points, as shown in the residual plots.\n",
    "\n",
    "In the summary tables, the very low r-square values informs me that only 0.8% of high and low blue-chip ratios or less than 1% of the variability in our dependent variable y can be explained by x. The p-values of 0.5 (high bcr), 0.48 (low bcr), and 0.6 (all) confirm that this observation is not statistically significant, that the evidence is weak against the null hypothesis. This means, based on the results provided in this analysis that the blue-chip ratio does not have a real impact on wins or losses in college football, leading me to not reject the null hypothesis."
   ]
  },
  {
   "cell_type": "markdown",
   "id": "8006a603",
   "metadata": {},
   "source": [
    "## Key Takeaways and Implications\n",
    "\n",
    " - P-values are not statistically significant, > 0.05<br>\n",
    " \n",
    " - R^2 values close to 0<br>\n",
    " \n",
    " - Size of the data was very small and challenging to work with\n",
    " \n",
    "Based to the results of this data, the implications are that the blue-chip ratio is not a major contributing factor in winning games in college football. Had the results been statistically significant, it could imply that college football programs should consider re-examining their respective recruiting strategies when building team rosters.\n"
   ]
  },
  {
   "cell_type": "code",
   "execution_count": null,
   "id": "bb5a7aeb",
   "metadata": {},
   "outputs": [],
   "source": []
  }
 ],
 "metadata": {
  "kernelspec": {
   "display_name": "Python 3 (ipykernel)",
   "language": "python",
   "name": "python3"
  },
  "language_info": {
   "codemirror_mode": {
    "name": "ipython",
    "version": 3
   },
   "file_extension": ".py",
   "mimetype": "text/x-python",
   "name": "python",
   "nbconvert_exporter": "python",
   "pygments_lexer": "ipython3",
   "version": "3.9.7"
  },
  "toc": {
   "base_numbering": 1,
   "nav_menu": {},
   "number_sections": false,
   "sideBar": true,
   "skip_h1_title": true,
   "title_cell": "Table of Contents",
   "title_sidebar": "Contents",
   "toc_cell": false,
   "toc_position": {},
   "toc_section_display": true,
   "toc_window_display": false
  }
 },
 "nbformat": 4,
 "nbformat_minor": 5
}
